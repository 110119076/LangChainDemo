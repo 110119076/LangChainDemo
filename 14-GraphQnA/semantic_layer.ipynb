{
 "cells": [
  {
   "cell_type": "code",
   "execution_count": 1,
   "id": "5388f428",
   "metadata": {},
   "outputs": [
    {
     "data": {
      "text/plain": [
       "True"
      ]
     },
     "execution_count": 1,
     "metadata": {},
     "output_type": "execute_result"
    }
   ],
   "source": [
    "import os\n",
    "from dotenv import load_dotenv\n",
    "load_dotenv()"
   ]
  },
  {
   "cell_type": "code",
   "execution_count": 17,
   "id": "2bf11eee",
   "metadata": {},
   "outputs": [],
   "source": [
    "NEO4J_URI = os.getenv(\"NEO4J_URI\")\n",
    "NEO4J_USERNAME = os.getenv(\"NEO4J_USERNAME\")\n",
    "NEO4J_PASSWORD = os.getenv(\"NEO4J_PASSWORD\")"
   ]
  },
  {
   "cell_type": "markdown",
   "id": "8981f723",
   "metadata": {},
   "source": [
    "How to add a semantic layer over graph database?\n"
   ]
  },
  {
   "cell_type": "code",
   "execution_count": 18,
   "id": "45eb9cd1",
   "metadata": {},
   "outputs": [],
   "source": [
    "groq_api_key = os.getenv(\"GROQ_API_KEY\")"
   ]
  },
  {
   "cell_type": "code",
   "execution_count": 19,
   "id": "2d16f33c",
   "metadata": {},
   "outputs": [],
   "source": [
    "from langchain_groq import ChatGroq\n",
    "llm = ChatGroq(groq_api_key=groq_api_key, model_name=\"gemma2-9b-it\")"
   ]
  },
  {
   "cell_type": "code",
   "execution_count": 20,
   "id": "8b7f473d",
   "metadata": {},
   "outputs": [
    {
     "data": {
      "text/plain": [
       "AIMessage(content='Mahesh Babu is a renowned Indian actor who primarily works in Telugu cinema. \\n\\nHere\\'s some key information about him:\\n\\n* **Full Name:** Urvasi Mahesh Babu\\n* **Born:** August 9, 1975, in Chennai, Tamil Nadu, India\\n* **Known For:** His charismatic screen presence, action-packed roles, and romantic dramas.\\n\\n**Career Highlights:**\\n\\n* **Debut:**  \"Rajakumarudu\" (1999)\\n* **Breakthrough:** \"Murari\" (2001)\\n* **Notable Films:** \"Okkadu,\" \"Pokiri,\" \"Athadu,\" \"Businessman,\" \"Srimanthudu,\" \"Bharat Ane Nenu,\" \"Maharshi,\" \"Sarileru Neekevvaru\", \"Sarkaru Vaari Paata\"\\n\\n**Awards and Recognition:**\\n\\n* He has won numerous awards, including several Filmfare Awards South and Nandi Awards.\\n\\n**Personal Life:**\\n\\n* Married to Namrata Shirodkar, a former actress.\\n* Has two children, Gautam and Sitara.\\n\\n**Beyond Acting:**\\n\\n* Mahesh Babu is also a brand ambassador for various products and has his own production house.\\n\\n\\nMahesh Babu is considered one of the biggest stars in Telugu cinema and enjoys a massive fan following across India.\\n\\n', response_metadata={'token_usage': {'completion_tokens': 282, 'prompt_tokens': 14, 'total_tokens': 296, 'completion_time': 0.512727273, 'prompt_time': 0.001246544, 'queue_time': 0.250209976, 'total_time': 0.513973817}, 'model_name': 'gemma2-9b-it', 'system_fingerprint': 'fp_10c08bf97d', 'finish_reason': 'stop', 'logprobs': None}, id='run-9712b680-72f8-4f3e-a97f-579788d85609-0')"
      ]
     },
     "execution_count": 20,
     "metadata": {},
     "output_type": "execute_result"
    }
   ],
   "source": [
    "llm.invoke(\"Who is Mahesh Babu?\")"
   ]
  },
  {
   "cell_type": "code",
   "execution_count": 21,
   "id": "9462a385",
   "metadata": {},
   "outputs": [],
   "source": [
    "from langchain_community.graphs import Neo4jGraph"
   ]
  },
  {
   "cell_type": "code",
   "execution_count": 22,
   "id": "5b331b18",
   "metadata": {},
   "outputs": [],
   "source": [
    "graph = Neo4jGraph(refresh_schema=False)"
   ]
  },
  {
   "cell_type": "code",
   "execution_count": 23,
   "id": "5b6baf8d",
   "metadata": {},
   "outputs": [
    {
     "data": {
      "text/plain": [
       "<langchain_community.graphs.neo4j_graph.Neo4jGraph at 0x1c1238e8750>"
      ]
     },
     "execution_count": 23,
     "metadata": {},
     "output_type": "execute_result"
    }
   ],
   "source": [
    "graph"
   ]
  },
  {
   "cell_type": "code",
   "execution_count": 24,
   "id": "94c99f81",
   "metadata": {},
   "outputs": [],
   "source": [
    "movies_query = \"\"\"\n",
    "LOAD CSV WITH HEADERS FROM \n",
    "'https://raw.githubusercontent.com/tomasonjo/blog-datasets/main/movies/movies_small.csv'\n",
    "AS row\n",
    "MERGE (m:Movie {id:row.movieId})\n",
    "SET m.released = date(row.released),\n",
    "    m.title = row.title,\n",
    "    m.imdbRating = toFloat(row.imdbRating)\n",
    "FOREACH (director in split(row.director, '|') | \n",
    "    MERGE (p:Person {name:trim(director)})\n",
    "    MERGE (p)-[:DIRECTED]->(m))\n",
    "FOREACH (actor in split(row.actors, '|') | \n",
    "    MERGE (p:Person {name:trim(actor)})\n",
    "    MERGE (p)-[:ACTED_IN]->(m))\n",
    "FOREACH (genre in split(row.genres, '|') | \n",
    "    MERGE (g:Genre {name:trim(genre)})\n",
    "    MERGE (m)-[:IN_GENRE]->(g))\n",
    "\"\"\""
   ]
  },
  {
   "cell_type": "code",
   "execution_count": 25,
   "id": "96826945",
   "metadata": {},
   "outputs": [
    {
     "data": {
      "text/plain": [
       "[]"
      ]
     },
     "execution_count": 25,
     "metadata": {},
     "output_type": "execute_result"
    }
   ],
   "source": [
    "graph.query(movies_query)"
   ]
  },
  {
   "cell_type": "markdown",
   "id": "f39f72fe",
   "metadata": {},
   "source": [
    "Semantic layer contains various tools to interact with Knowledge graph. Each tool in semantic layer is like a function"
   ]
  },
  {
   "cell_type": "markdown",
   "id": "a32542e9",
   "metadata": {},
   "source": [
    "Custom tools with Cypher templates"
   ]
  },
  {
   "cell_type": "code",
   "execution_count": 26,
   "id": "1bfd1b00",
   "metadata": {},
   "outputs": [],
   "source": [
    "description_query = \"\"\"\n",
    "MATCH (m:Movie|Person)\n",
    "WHERE m.title CONTAINS $candidate OR m.name CONTAINS $candidate\n",
    "MATCH (m)-[r:ACTED_IN|IN_GENRE]-(t)\n",
    "WITH m, type(r) as type, collect(coalesce(t.name, t.title)) as names\n",
    "WITH m, type+\": \"+reduce(s=\"\", n IN names | s + n + \", \") as types\n",
    "WITH m, collect(types) as contexts\n",
    "WITH m, \"type:\" + labels(m)[0] + \"\\ntitle: \"+ coalesce(m.title, m.name) \n",
    "       + \"\\nyear: \"+coalesce(m.released,\"\") +\"\\n\" +\n",
    "       reduce(s=\"\", c in contexts | s + substring(c, 0, size(c)-2) +\"\\n\") as context\n",
    "RETURN context LIMIT 1\n",
    "\"\"\""
   ]
  },
  {
   "cell_type": "markdown",
   "id": "87f764f8",
   "metadata": {},
   "source": [
    "Info Tool"
   ]
  },
  {
   "cell_type": "code",
   "execution_count": 27,
   "id": "8df27625",
   "metadata": {},
   "outputs": [],
   "source": [
    "def get_information(entity: str) -> str:\n",
    "    try:\n",
    "        data= graph.query(description_query, params={\"candidate\":entity})\n",
    "        return data[0][\"context\"]\n",
    "    except IndexError:\n",
    "        return \"No Info available\""
   ]
  },
  {
   "cell_type": "code",
   "execution_count": 29,
   "id": "4811dd26",
   "metadata": {},
   "outputs": [
    {
     "data": {
      "text/plain": [
       "[{'context': 'type:Movie\\ntitle: Casino\\nyear: 1995-11-22\\nACTED_IN: Robert De Niro, Joe Pesci, Sharon Stone, James Woods\\nIN_GENRE: Drama, Crime\\n'}]"
      ]
     },
     "execution_count": 29,
     "metadata": {},
     "output_type": "execute_result"
    }
   ],
   "source": [
    "sample_data=graph.query(description_query, params={\"candidate\":\"Casino\"})\n",
    "sample_data"
   ]
  },
  {
   "cell_type": "code",
   "execution_count": 30,
   "id": "0124a431",
   "metadata": {},
   "outputs": [
    {
     "data": {
      "text/plain": [
       "'type:Movie\\ntitle: Casino\\nyear: 1995-11-22\\nACTED_IN: Robert De Niro, Joe Pesci, Sharon Stone, James Woods\\nIN_GENRE: Drama, Crime\\n'"
      ]
     },
     "execution_count": 30,
     "metadata": {},
     "output_type": "execute_result"
    }
   ],
   "source": [
    "get_information(\"Casino\")"
   ]
  },
  {
   "cell_type": "code",
   "execution_count": 31,
   "id": "a4cd4473",
   "metadata": {},
   "outputs": [],
   "source": [
    "from typing import Optional, Type\n",
    "from pydantic import BaseModel, Field\n",
    "\n",
    "from langchain_core.tools import BaseTool"
   ]
  },
  {
   "cell_type": "code",
   "execution_count": 32,
   "id": "b2f8c2d8",
   "metadata": {},
   "outputs": [],
   "source": [
    "class InfoInput(BaseModel):\n",
    "    entity: str = Field(description=\"movie or a person mentioned in the question\")"
   ]
  },
  {
   "cell_type": "code",
   "execution_count": 33,
   "id": "56083463",
   "metadata": {},
   "outputs": [],
   "source": [
    "class InfoTool(BaseTool):\n",
    "    name: str = \"Information\"\n",
    "    description: str = (\"useful for when you need to answer questions about various actors or movies\")\n",
    "    args_schema: Type[BaseModel] = InfoInput\n",
    "\n",
    "    def _run(self, entity:str) -> str:\n",
    "        \"\"\"Use the tool.\"\"\"\n",
    "        return get_information(entity)\n",
    "    \n",
    "    def __arun(self, entity:str) -> str:\n",
    "        \"\"\"Use the tool asynchronously\"\"\"\n",
    "        return get_information(entity)"
   ]
  },
  {
   "cell_type": "code",
   "execution_count": 34,
   "id": "c143559c",
   "metadata": {},
   "outputs": [],
   "source": [
    "from langchain_core.messages import HumanMessage, SystemMessage\n",
    "from langgraph.graph import MessagesState"
   ]
  },
  {
   "cell_type": "code",
   "execution_count": 35,
   "id": "07bd5792",
   "metadata": {},
   "outputs": [],
   "source": [
    "tools = [InfoTool()]\n",
    "llm_with_tools = llm.bind_tools(tools)"
   ]
  },
  {
   "cell_type": "code",
   "execution_count": 36,
   "id": "61bb5004",
   "metadata": {},
   "outputs": [],
   "source": [
    "sys_msg = SystemMessage(\n",
    "    content=\"You are a helpful assistant tasked with finding and explaining relevant information about movies.\"\n",
    ")"
   ]
  },
  {
   "cell_type": "markdown",
   "id": "f22320ba",
   "metadata": {},
   "source": [
    "Node"
   ]
  },
  {
   "cell_type": "code",
   "execution_count": 37,
   "id": "a7098bf2",
   "metadata": {},
   "outputs": [],
   "source": [
    "def assistant(state: MessagesState):\n",
    "    return {\"messages\": [llm_with_tools.invoke([sys_msg]+state[\"messages\"])]}"
   ]
  },
  {
   "cell_type": "code",
   "execution_count": 38,
   "id": "8440ae31",
   "metadata": {},
   "outputs": [
    {
     "data": {
      "image/jpeg": "[encoded data removed]",
      "text/plain": [
       "<IPython.core.display.Image object>"
      ]
     },
     "metadata": {},
     "output_type": "display_data"
    }
   ],
   "source": [
    "from IPython.display import Image, display\n",
    "from langgraph.graph import END, START, StateGraph\n",
    "from langgraph.prebuilt import ToolNode, tools_condition\n",
    "\n",
    "# Graph\n",
    "builder = StateGraph(MessagesState)\n",
    "\n",
    "# Define nodes: these do the work\n",
    "builder.add_node(\"assistant\", assistant)\n",
    "builder.add_node(\"tools\", ToolNode(tools))\n",
    "\n",
    "# Define edges: these determine how the control flow moves\n",
    "builder.add_edge(START, \"assistant\")\n",
    "builder.add_conditional_edges(\n",
    "    \"assistant\",\n",
    "    # If the latest message (result) from assistant is a tool call -> tools_condition routes to tools\n",
    "    # If the latest message (result) from assistant is a not a tool call -> tools_condition routes to END\n",
    "    tools_condition,\n",
    ")\n",
    "builder.add_edge(\"tools\", \"assistant\")\n",
    "react_graph = builder.compile()\n",
    "\n",
    "# Show\n",
    "display(Image(react_graph.get_graph(xray=True).draw_mermaid_png()))"
   ]
  },
  {
   "cell_type": "code",
   "execution_count": 39,
   "id": "3bc82a8e",
   "metadata": {},
   "outputs": [
    {
     "name": "stdout",
     "output_type": "stream",
     "text": [
      "================================\u001b[1m Human Message \u001b[0m=================================\n",
      "\n",
      "Who played in the Casino?\n",
      "==================================\u001b[1m Ai Message \u001b[0m==================================\n",
      "Tool Calls:\n",
      "  Information (28995x9er)\n",
      " Call ID: 28995x9er\n",
      "  Args:\n",
      "    entity: Casino\n",
      "=================================\u001b[1m Tool Message \u001b[0m=================================\n",
      "Name: Information\n",
      "\n",
      "type:Movie\n",
      "title: Casino\n",
      "year: 1995-11-22\n",
      "ACTED_IN: Robert De Niro, Joe Pesci, Sharon Stone, James Woods\n",
      "IN_GENRE: Drama, Crime\n",
      "\n",
      "==================================\u001b[1m Ai Message \u001b[0m==================================\n",
      "\n",
      "Robert De Niro, Joe Pesci, Sharon Stone, and James Woods\n"
     ]
    }
   ],
   "source": [
    "input_messages = [HumanMessage(content=\"Who played in the Casino?\")]\n",
    "messages = react_graph.invoke({\"messages\": input_messages})\n",
    "for m in messages[\"messages\"]:\n",
    "    m.pretty_print()"
   ]
  },
  {
   "cell_type": "code",
   "execution_count": 40,
   "id": "00d78970",
   "metadata": {},
   "outputs": [
    {
     "name": "stdout",
     "output_type": "stream",
     "text": [
      "================================\u001b[1m Human Message \u001b[0m=================================\n",
      "\n",
      "What movies did Brad Pitt act in?\n",
      "==================================\u001b[1m Ai Message \u001b[0m==================================\n",
      "Tool Calls:\n",
      "  Information (45qyk26wk)\n",
      " Call ID: 45qyk26wk\n",
      "  Args:\n",
      "    entity: Brad Pitt\n",
      "=================================\u001b[1m Tool Message \u001b[0m=================================\n",
      "Name: Information\n",
      "\n",
      "type:Person\n",
      "title: Brad Pitt\n",
      "year: \n",
      "ACTED_IN: Seven (a.k.a. Se7en), Interview with the Vampire: The Vampire Chronicles, Legends of the Fall\n",
      "\n",
      "==================================\u001b[1m Ai Message \u001b[0m==================================\n",
      "\n",
      "Seven (a.k.a. Se7en), Interview with the Vampire: The Vampire Chronicles, Legends of the Fall\n"
     ]
    }
   ],
   "source": [
    "input_messages = [HumanMessage(content=\"What movies did Brad Pitt act in?\")]\n",
    "messages = react_graph.invoke({\"messages\": input_messages})\n",
    "for m in messages[\"messages\"]:\n",
    "    m.pretty_print()"
   ]
  },
  {
   "cell_type": "code",
   "execution_count": null,
   "id": "47721044",
   "metadata": {},
   "outputs": [],
   "source": []
  }
 ],
 "metadata": {
  "kernelspec": {
   "display_name": "Python 3.11 (venv)",
   "language": "python",
   "name": "venv"
  },
  "language_info": {
   "codemirror_mode": {
    "name": "ipython",
    "version": 3
   },
   "file_extension": ".py",
   "mimetype": "text/x-python",
   "name": "python",
   "nbconvert_exporter": "python",
   "pygments_lexer": "ipython3",
   "version": "3.11.5"
  }
 },
 "nbformat": 4,
 "nbformat_minor": 5
}
