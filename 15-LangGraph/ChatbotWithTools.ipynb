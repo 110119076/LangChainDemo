{
 "cells": [
  {
   "cell_type": "code",
   "execution_count": 157,
   "id": "a9a0e8fc",
   "metadata": {},
   "outputs": [],
   "source": [
    "from typing import Annotated\n",
    "from typing_extensions import TypedDict"
   ]
  },
  {
   "cell_type": "code",
   "execution_count": 158,
   "id": "1f27fce7",
   "metadata": {},
   "outputs": [],
   "source": [
    "from langchain_community.utilities import ArxivAPIWrapper, WikipediaAPIWrapper\n",
    "from langchain_community.tools import ArxivQueryRun, WikipediaQueryRun"
   ]
  },
  {
   "cell_type": "code",
   "execution_count": 159,
   "id": "b534dd2d",
   "metadata": {},
   "outputs": [],
   "source": [
    "arxiv_wrapper = ArxivAPIWrapper(top_k_results=1, doc_content_chars_max=300)\n",
    "wiki_wrapper = WikipediaAPIWrapper(top_k_results=1, doc_content_chars_max=300)\n",
    "\n",
    "arxiv_tool = ArxivQueryRun(api_wrapper=arxiv_wrapper)\n",
    "wiki_tool = WikipediaQueryRun(api_wrapper=wiki_wrapper)"
   ]
  },
  {
   "cell_type": "code",
   "execution_count": 160,
   "id": "b93a924a",
   "metadata": {},
   "outputs": [
    {
     "data": {
      "text/plain": [
       "'Page: Pawan Kalyan\\nSummary: Konidela Pawan Kalyan (born Konidela Sri Kalyan Kumar; 2 September 1971) is an Indian politician, actor, serving as the 11th Deputy Chief Minister of Andhra Pradesh since June 2024. He is also the Minister of Panchayat Raj, Rural Development and Rural Water Supply; Enviro'"
      ]
     },
     "execution_count": 160,
     "metadata": {},
     "output_type": "execute_result"
    }
   ],
   "source": [
    "wiki_tool.invoke(\"Who is Pawan Kalyan?\")"
   ]
  },
  {
   "cell_type": "code",
   "execution_count": 161,
   "id": "6fe2d4f8",
   "metadata": {},
   "outputs": [
    {
     "data": {
      "text/plain": [
       "\"Published: 2024-07-22\\nTitle: Attention Is All You Need But You Don't Need All Of It For Inference of Large Language Models\\nAuthors: Georgy Tyukin, Gbetondji J-S Dovonon, Jean Kaddour, Pasquale Minervini\\nSummary: The inference demand for LLMs has skyrocketed in recent months, and serving\\nmodels with \""
      ]
     },
     "execution_count": 161,
     "metadata": {},
     "output_type": "execute_result"
    }
   ],
   "source": [
    "arxiv_tool.invoke(\"Attention is All You Need\")"
   ]
  },
  {
   "cell_type": "code",
   "execution_count": 162,
   "id": "0b5cfc66",
   "metadata": {},
   "outputs": [],
   "source": [
    "tools = [wiki_tool]"
   ]
  },
  {
   "cell_type": "code",
   "execution_count": 163,
   "id": "f3e5af5d",
   "metadata": {},
   "outputs": [],
   "source": [
    "from langchain.tools import tool\n",
    "\n",
    "wiki = WikipediaAPIWrapper()\n",
    "@tool\n",
    "def wikipedia_search(query: str) -> str:\n",
    "    \"\"\"Search Wikipedia for a given query and return a summary.\"\"\"\n",
    "    return wiki.run(query)\n",
    "\n",
    "tools = [wikipedia_search]"
   ]
  },
  {
   "cell_type": "code",
   "execution_count": 164,
   "id": "065ab154",
   "metadata": {},
   "outputs": [],
   "source": [
    "from langgraph.graph import add_messages"
   ]
  },
  {
   "cell_type": "code",
   "execution_count": 165,
   "id": "2b8c4798",
   "metadata": {},
   "outputs": [],
   "source": [
    "class State(TypedDict):\n",
    "    messages : Annotated[list, add_messages]"
   ]
  },
  {
   "cell_type": "code",
   "execution_count": 166,
   "id": "aa34654e",
   "metadata": {},
   "outputs": [],
   "source": [
    "from langgraph.graph import StateGraph, START, END"
   ]
  },
  {
   "cell_type": "code",
   "execution_count": 167,
   "id": "94dc3899",
   "metadata": {},
   "outputs": [],
   "source": [
    "graph_builder = StateGraph(State)"
   ]
  },
  {
   "cell_type": "code",
   "execution_count": 168,
   "id": "63946754",
   "metadata": {},
   "outputs": [],
   "source": [
    "from langchain_groq import ChatGroq"
   ]
  },
  {
   "cell_type": "code",
   "execution_count": 169,
   "id": "5bd4de2f",
   "metadata": {},
   "outputs": [
    {
     "data": {
      "text/plain": [
       "True"
      ]
     },
     "execution_count": 169,
     "metadata": {},
     "output_type": "execute_result"
    }
   ],
   "source": [
    "import os\n",
    "from dotenv import load_dotenv\n",
    "load_dotenv()"
   ]
  },
  {
   "cell_type": "code",
   "execution_count": 170,
   "id": "f5482707",
   "metadata": {},
   "outputs": [],
   "source": [
    "groq_api_key = os.getenv(\"GROQ_API_KEY\")"
   ]
  },
  {
   "cell_type": "code",
   "execution_count": 171,
   "id": "a40149b2",
   "metadata": {},
   "outputs": [],
   "source": [
    "llm = ChatGroq(groq_api_key=groq_api_key, model_name=\"Gemma2-9b-it\")"
   ]
  },
  {
   "cell_type": "code",
   "execution_count": 172,
   "id": "c193e29b",
   "metadata": {},
   "outputs": [],
   "source": [
    "llm_with_tools = llm.bind_tools(tools=tools)"
   ]
  },
  {
   "cell_type": "code",
   "execution_count": 173,
   "id": "8f93a74e",
   "metadata": {},
   "outputs": [],
   "source": [
    "def chatbot(state: State):\n",
    "    print(state)\n",
    "    return {\"messages\": [llm_with_tools.invoke(state[\"messages\"])]}"
   ]
  },
  {
   "cell_type": "code",
   "execution_count": 174,
   "id": "d36eabca",
   "metadata": {},
   "outputs": [],
   "source": [
    "from langgraph.prebuilt import ToolNode, tools_condition"
   ]
  },
  {
   "cell_type": "code",
   "execution_count": 130,
   "id": "a4dbc0be",
   "metadata": {},
   "outputs": [],
   "source": [
    "# graph_builder.add_node(\"chatbot\", chatbot)\n",
    "# tool_node = ToolNode(tools=tools)\n",
    "# graph_builder.add_node(\"tools\", tool_node)\n",
    "\n",
    "# graph_builder.add_conditional_edges(\"chatbot\", tools_condition)\n",
    "\n",
    "# graph_builder.add_edge(\"tools\", \"chatbot\")\n",
    "# graph_builder.add_edge(START, \"chatbot\")\n",
    "# graph_builder.add_edge(\"chatbot\", END)\n"
   ]
  },
  {
   "cell_type": "code",
   "execution_count": 175,
   "id": "0755f9f6",
   "metadata": {},
   "outputs": [],
   "source": [
    "graph_builder.add_node(\"chatbot\",chatbot)\n",
    "tool_node = ToolNode(tools=tools)\n",
    "graph_builder.add_node(\"tools\", tool_node)\n",
    "\n",
    "graph_builder.add_conditional_edges(\n",
    "    \"chatbot\",\n",
    "    tools_condition,\n",
    ")\n",
    "graph_builder.add_edge(\"tools\", \"chatbot\")\n",
    "graph_builder.add_edge(START,\"chatbot\")\n"
   ]
  },
  {
   "cell_type": "code",
   "execution_count": 176,
   "id": "71a6c3da",
   "metadata": {},
   "outputs": [
    {
     "data": {
      "text/plain": [
       "<langgraph.graph.state.StateGraph at 0x1e6e77cab10>"
      ]
     },
     "execution_count": 176,
     "metadata": {},
     "output_type": "execute_result"
    }
   ],
   "source": [
    "graph_builder"
   ]
  },
  {
   "cell_type": "code",
   "execution_count": 177,
   "id": "1cd93e33",
   "metadata": {},
   "outputs": [],
   "source": [
    "graph = graph_builder.compile()"
   ]
  },
  {
   "cell_type": "code",
   "execution_count": 178,
   "id": "995d3062",
   "metadata": {},
   "outputs": [
    {
     "data": {
      "image/jpeg": "[encoded data removed]",
      "text/plain": [
       "<IPython.core.display.Image object>"
      ]
     },
     "metadata": {},
     "output_type": "display_data"
    }
   ],
   "source": [
    "from IPython.display import Image, display\n",
    "\n",
    "try:\n",
    "    display(Image(graph.get_graph().draw_mermaid_png()))\n",
    "except Exception:\n",
    "    # This requires some extra dependencies and is optional\n",
    "    pass"
   ]
  },
  {
   "cell_type": "code",
   "execution_count": 179,
   "id": "8da55f09",
   "metadata": {},
   "outputs": [
    {
     "name": "stdout",
     "output_type": "stream",
     "text": [
      "Event keys: dict_keys(['messages'])\n",
      "================================\u001b[1m Human Message \u001b[0m=================================\n",
      "\n",
      "Hi there!, My name is John\n",
      "{'messages': [HumanMessage(content='Hi there!, My name is John', id='25a895bf-7491-4f3e-a394-62f1221fd630')]}\n",
      "Event keys: dict_keys(['messages'])\n",
      "================================\u001b[1m Human Message \u001b[0m=================================\n",
      "\n",
      "Hi there!, My name is John\n",
      "==================================\u001b[1m Ai Message \u001b[0m==================================\n",
      "Tool Calls:\n",
      "  wikipedia_search (34yb7n8qy)\n",
      " Call ID: 34yb7n8qy\n",
      "  Args:\n",
      "    query: John\n"
     ]
    },
    {
     "name": "stderr",
     "output_type": "stream",
     "text": [
      "C:\\Users\\004NQ8744\\OneDrive\\Roadwork\\langChain\\venv\\Lib\\site-packages\\wikipedia\\wikipedia.py:389: GuessedAtParserWarning: No parser was explicitly specified, so I'm using the best available HTML parser for this system (\"lxml\"). This usually isn't a problem, but if you run this code on another system, or in a different virtual environment, it may use a different parser and behave differently.\n",
      "\n",
      "The code that caused this warning is on line 389 of the file C:\\Users\\004NQ8744\\OneDrive\\Roadwork\\langChain\\venv\\Lib\\site-packages\\wikipedia\\wikipedia.py. To get rid of this warning, pass the additional argument 'features=\"lxml\"' to the BeautifulSoup constructor.\n",
      "\n",
      "  lis = BeautifulSoup(html).find_all('li')\n"
     ]
    },
    {
     "name": "stdout",
     "output_type": "stream",
     "text": [
      "Event keys: dict_keys(['messages'])\n",
      "================================\u001b[1m Human Message \u001b[0m=================================\n",
      "\n",
      "Hi there!, My name is John\n",
      "==================================\u001b[1m Ai Message \u001b[0m==================================\n",
      "Tool Calls:\n",
      "  wikipedia_search (34yb7n8qy)\n",
      " Call ID: 34yb7n8qy\n",
      "  Args:\n",
      "    query: John\n",
      "=================================\u001b[1m Tool Message \u001b[0m=================================\n",
      "Name: wikipedia_search\n",
      "\n",
      "Page: John Wick\n",
      "Summary: John Wick is an American media franchise created by Derek Kolstad. It centers on a neo-noir action thriller film series featuring titular character portrayed by Keanu Reeves. Wick is a legendary hitman who is reluctantly drawn back into the criminal underworld after retiring. The franchise began with the release of John Wick (2014), which was followed by three sequels: Chapter 2 (2017), Chapter 3 – Parabellum (2019), and Chapter 4 (2023). Various spin-offs expanded the franchise: the prequel comic book series John Wick: The Book of Rules (2017–2019), the prequel television miniseries The Continental (2023), and the spinoff film Ballerina (2025), all incorporating elements of alternate history.\n",
      "The films have received critical acclaim, and have been considered one of the greatest action film series of all time. Some critics and publications consider the first film, as well as Chapter 4, as two of the greatest action films ever made. The films have earned a collective gross of more than $1 billion worldwide.\n",
      "Chad Stahelski, Basil Iwanyk, and Erica Lee serve in oversight roles for the John Wick franchise. 87Eleven Productions, Thunder Road Films, and Lionsgate produce the franchise.\n",
      "\n",
      "Page: John and Lorena Bobbitt\n",
      "Summary: John Wayne Bobbitt (born 1967) and Lorena Gallo (formerly Lorena Bobbitt; born May 15, 1969) were an American couple, married on June 18, 1989, whose relationship received international press coverage in 1993 when Lorena severed John's penis with a kitchen knife while he was asleep in bed; the penis was successfully surgically reattached.\n",
      "Lorena, an Ecuadorian immigrant, alleged that her husband John, a bar bouncer and former U.S. Marine, had raped and abused her for years. John was charged with rape later that year but was acquitted and subsequently starred in two pornographic films. The next year, Lorena was acquitted of assault by reason of insanity and went on to start a foundation for domestic abuse victims and their children. The couple divorced in 1995.\n",
      "\n",
      "\n",
      "{'messages': [HumanMessage(content='Hi there!, My name is John', id='25a895bf-7491-4f3e-a394-62f1221fd630'), AIMessage(content='', additional_kwargs={'tool_calls': [{'id': '34yb7n8qy', 'function': {'arguments': '{\"query\":\"John\"}', 'name': 'wikipedia_search'}, 'type': 'function'}]}, response_metadata={'token_usage': {'completion_tokens': 172, 'prompt_tokens': 965, 'total_tokens': 1137, 'completion_time': 0.312727273, 'prompt_time': 0.018675308, 'queue_time': 0.249098792, 'total_time': 0.331402581}, 'model_name': 'Gemma2-9b-it', 'system_fingerprint': 'fp_10c08bf97d', 'finish_reason': 'tool_calls', 'logprobs': None}, id='run-524faaae-0d16-4287-a3a0-8e8620ddb395-0', tool_calls=[{'name': 'wikipedia_search', 'args': {'query': 'John'}, 'id': '34yb7n8qy'}]), ToolMessage(content=\"Page: John Wick\\nSummary: John Wick is an American media franchise created by Derek Kolstad. It centers on a neo-noir action thriller film series featuring titular character portrayed by Keanu Reeves. Wick is a legendary hitman who is reluctantly drawn back into the criminal underworld after retiring. The franchise began with the release of John Wick (2014), which was followed by three sequels: Chapter 2 (2017), Chapter 3 – Parabellum (2019), and Chapter 4 (2023). Various spin-offs expanded the franchise: the prequel comic book series John Wick: The Book of Rules (2017–2019), the prequel television miniseries The Continental (2023), and the spinoff film Ballerina (2025), all incorporating elements of alternate history.\\nThe films have received critical acclaim, and have been considered one of the greatest action film series of all time. Some critics and publications consider the first film, as well as Chapter 4, as two of the greatest action films ever made. The films have earned a collective gross of more than $1 billion worldwide.\\nChad Stahelski, Basil Iwanyk, and Erica Lee serve in oversight roles for the John Wick franchise. 87Eleven Productions, Thunder Road Films, and Lionsgate produce the franchise.\\n\\nPage: John and Lorena Bobbitt\\nSummary: John Wayne Bobbitt (born 1967) and Lorena Gallo (formerly Lorena Bobbitt; born May 15, 1969) were an American couple, married on June 18, 1989, whose relationship received international press coverage in 1993 when Lorena severed John's penis with a kitchen knife while he was asleep in bed; the penis was successfully surgically reattached.\\nLorena, an Ecuadorian immigrant, alleged that her husband John, a bar bouncer and former U.S. Marine, had raped and abused her for years. John was charged with rape later that year but was acquitted and subsequently starred in two pornographic films. The next year, Lorena was acquitted of assault by reason of insanity and went on to start a foundation for domestic abuse victims and their children. The couple divorced in 1995.\\n\\n\", name='wikipedia_search', id='f4bcef65-ac92-4b3d-9d7a-1e72426b2de8', tool_call_id='34yb7n8qy')]}\n",
      "Event keys: dict_keys(['messages'])\n",
      "================================\u001b[1m Human Message \u001b[0m=================================\n",
      "\n",
      "Hi there!, My name is John\n",
      "==================================\u001b[1m Ai Message \u001b[0m==================================\n",
      "Tool Calls:\n",
      "  wikipedia_search (34yb7n8qy)\n",
      " Call ID: 34yb7n8qy\n",
      "  Args:\n",
      "    query: John\n",
      "=================================\u001b[1m Tool Message \u001b[0m=================================\n",
      "Name: wikipedia_search\n",
      "\n",
      "Page: John Wick\n",
      "Summary: John Wick is an American media franchise created by Derek Kolstad. It centers on a neo-noir action thriller film series featuring titular character portrayed by Keanu Reeves. Wick is a legendary hitman who is reluctantly drawn back into the criminal underworld after retiring. The franchise began with the release of John Wick (2014), which was followed by three sequels: Chapter 2 (2017), Chapter 3 – Parabellum (2019), and Chapter 4 (2023). Various spin-offs expanded the franchise: the prequel comic book series John Wick: The Book of Rules (2017–2019), the prequel television miniseries The Continental (2023), and the spinoff film Ballerina (2025), all incorporating elements of alternate history.\n",
      "The films have received critical acclaim, and have been considered one of the greatest action film series of all time. Some critics and publications consider the first film, as well as Chapter 4, as two of the greatest action films ever made. The films have earned a collective gross of more than $1 billion worldwide.\n",
      "Chad Stahelski, Basil Iwanyk, and Erica Lee serve in oversight roles for the John Wick franchise. 87Eleven Productions, Thunder Road Films, and Lionsgate produce the franchise.\n",
      "\n",
      "Page: John and Lorena Bobbitt\n",
      "Summary: John Wayne Bobbitt (born 1967) and Lorena Gallo (formerly Lorena Bobbitt; born May 15, 1969) were an American couple, married on June 18, 1989, whose relationship received international press coverage in 1993 when Lorena severed John's penis with a kitchen knife while he was asleep in bed; the penis was successfully surgically reattached.\n",
      "Lorena, an Ecuadorian immigrant, alleged that her husband John, a bar bouncer and former U.S. Marine, had raped and abused her for years. John was charged with rape later that year but was acquitted and subsequently starred in two pornographic films. The next year, Lorena was acquitted of assault by reason of insanity and went on to start a foundation for domestic abuse victims and their children. The couple divorced in 1995.\n",
      "\n",
      "\n",
      "==================================\u001b[1m Ai Message \u001b[0m==================================\n",
      "Tool Calls:\n",
      "  wikipedia_search (jcqfptmv5)\n",
      " Call ID: jcqfptmv5\n",
      "  Args:\n",
      "    query: John\n"
     ]
    },
    {
     "name": "stderr",
     "output_type": "stream",
     "text": [
      "C:\\Users\\004NQ8744\\OneDrive\\Roadwork\\langChain\\venv\\Lib\\site-packages\\wikipedia\\wikipedia.py:389: GuessedAtParserWarning: No parser was explicitly specified, so I'm using the best available HTML parser for this system (\"lxml\"). This usually isn't a problem, but if you run this code on another system, or in a different virtual environment, it may use a different parser and behave differently.\n",
      "\n",
      "The code that caused this warning is on line 389 of the file C:\\Users\\004NQ8744\\OneDrive\\Roadwork\\langChain\\venv\\Lib\\site-packages\\wikipedia\\wikipedia.py. To get rid of this warning, pass the additional argument 'features=\"lxml\"' to the BeautifulSoup constructor.\n",
      "\n",
      "  lis = BeautifulSoup(html).find_all('li')\n"
     ]
    },
    {
     "name": "stdout",
     "output_type": "stream",
     "text": [
      "Event keys: dict_keys(['messages'])\n",
      "================================\u001b[1m Human Message \u001b[0m=================================\n",
      "\n",
      "Hi there!, My name is John\n",
      "==================================\u001b[1m Ai Message \u001b[0m==================================\n",
      "Tool Calls:\n",
      "  wikipedia_search (34yb7n8qy)\n",
      " Call ID: 34yb7n8qy\n",
      "  Args:\n",
      "    query: John\n",
      "=================================\u001b[1m Tool Message \u001b[0m=================================\n",
      "Name: wikipedia_search\n",
      "\n",
      "Page: John Wick\n",
      "Summary: John Wick is an American media franchise created by Derek Kolstad. It centers on a neo-noir action thriller film series featuring titular character portrayed by Keanu Reeves. Wick is a legendary hitman who is reluctantly drawn back into the criminal underworld after retiring. The franchise began with the release of John Wick (2014), which was followed by three sequels: Chapter 2 (2017), Chapter 3 – Parabellum (2019), and Chapter 4 (2023). Various spin-offs expanded the franchise: the prequel comic book series John Wick: The Book of Rules (2017–2019), the prequel television miniseries The Continental (2023), and the spinoff film Ballerina (2025), all incorporating elements of alternate history.\n",
      "The films have received critical acclaim, and have been considered one of the greatest action film series of all time. Some critics and publications consider the first film, as well as Chapter 4, as two of the greatest action films ever made. The films have earned a collective gross of more than $1 billion worldwide.\n",
      "Chad Stahelski, Basil Iwanyk, and Erica Lee serve in oversight roles for the John Wick franchise. 87Eleven Productions, Thunder Road Films, and Lionsgate produce the franchise.\n",
      "\n",
      "Page: John and Lorena Bobbitt\n",
      "Summary: John Wayne Bobbitt (born 1967) and Lorena Gallo (formerly Lorena Bobbitt; born May 15, 1969) were an American couple, married on June 18, 1989, whose relationship received international press coverage in 1993 when Lorena severed John's penis with a kitchen knife while he was asleep in bed; the penis was successfully surgically reattached.\n",
      "Lorena, an Ecuadorian immigrant, alleged that her husband John, a bar bouncer and former U.S. Marine, had raped and abused her for years. John was charged with rape later that year but was acquitted and subsequently starred in two pornographic films. The next year, Lorena was acquitted of assault by reason of insanity and went on to start a foundation for domestic abuse victims and their children. The couple divorced in 1995.\n",
      "\n",
      "\n",
      "==================================\u001b[1m Ai Message \u001b[0m==================================\n",
      "Tool Calls:\n",
      "  wikipedia_search (jcqfptmv5)\n",
      " Call ID: jcqfptmv5\n",
      "  Args:\n",
      "    query: John\n",
      "=================================\u001b[1m Tool Message \u001b[0m=================================\n",
      "Name: wikipedia_search\n",
      "\n",
      "Page: John Wick\n",
      "Summary: John Wick is an American media franchise created by Derek Kolstad. It centers on a neo-noir action thriller film series featuring titular character portrayed by Keanu Reeves. Wick is a legendary hitman who is reluctantly drawn back into the criminal underworld after retiring. The franchise began with the release of John Wick (2014), which was followed by three sequels: Chapter 2 (2017), Chapter 3 – Parabellum (2019), and Chapter 4 (2023). Various spin-offs expanded the franchise: the prequel comic book series John Wick: The Book of Rules (2017–2019), the prequel television miniseries The Continental (2023), and the spinoff film Ballerina (2025), all incorporating elements of alternate history.\n",
      "The films have received critical acclaim, and have been considered one of the greatest action film series of all time. Some critics and publications consider the first film, as well as Chapter 4, as two of the greatest action films ever made. The films have earned a collective gross of more than $1 billion worldwide.\n",
      "Chad Stahelski, Basil Iwanyk, and Erica Lee serve in oversight roles for the John Wick franchise. 87Eleven Productions, Thunder Road Films, and Lionsgate produce the franchise.\n",
      "\n",
      "Page: John and Lorena Bobbitt\n",
      "Summary: John Wayne Bobbitt (born 1967) and Lorena Gallo (formerly Lorena Bobbitt; born May 15, 1969) were an American couple, married on June 18, 1989, whose relationship received international press coverage in 1993 when Lorena severed John's penis with a kitchen knife while he was asleep in bed; the penis was successfully surgically reattached.\n",
      "Lorena, an Ecuadorian immigrant, alleged that her husband John, a bar bouncer and former U.S. Marine, had raped and abused her for years. John was charged with rape later that year but was acquitted and subsequently starred in two pornographic films. The next year, Lorena was acquitted of assault by reason of insanity and went on to start a foundation for domestic abuse victims and their children. The couple divorced in 1995.\n",
      "\n",
      "\n",
      "{'messages': [HumanMessage(content='Hi there!, My name is John', id='25a895bf-7491-4f3e-a394-62f1221fd630'), AIMessage(content='', additional_kwargs={'tool_calls': [{'id': '34yb7n8qy', 'function': {'arguments': '{\"query\":\"John\"}', 'name': 'wikipedia_search'}, 'type': 'function'}]}, response_metadata={'token_usage': {'completion_tokens': 172, 'prompt_tokens': 965, 'total_tokens': 1137, 'completion_time': 0.312727273, 'prompt_time': 0.018675308, 'queue_time': 0.249098792, 'total_time': 0.331402581}, 'model_name': 'Gemma2-9b-it', 'system_fingerprint': 'fp_10c08bf97d', 'finish_reason': 'tool_calls', 'logprobs': None}, id='run-524faaae-0d16-4287-a3a0-8e8620ddb395-0', tool_calls=[{'name': 'wikipedia_search', 'args': {'query': 'John'}, 'id': '34yb7n8qy'}]), ToolMessage(content=\"Page: John Wick\\nSummary: John Wick is an American media franchise created by Derek Kolstad. It centers on a neo-noir action thriller film series featuring titular character portrayed by Keanu Reeves. Wick is a legendary hitman who is reluctantly drawn back into the criminal underworld after retiring. The franchise began with the release of John Wick (2014), which was followed by three sequels: Chapter 2 (2017), Chapter 3 – Parabellum (2019), and Chapter 4 (2023). Various spin-offs expanded the franchise: the prequel comic book series John Wick: The Book of Rules (2017–2019), the prequel television miniseries The Continental (2023), and the spinoff film Ballerina (2025), all incorporating elements of alternate history.\\nThe films have received critical acclaim, and have been considered one of the greatest action film series of all time. Some critics and publications consider the first film, as well as Chapter 4, as two of the greatest action films ever made. The films have earned a collective gross of more than $1 billion worldwide.\\nChad Stahelski, Basil Iwanyk, and Erica Lee serve in oversight roles for the John Wick franchise. 87Eleven Productions, Thunder Road Films, and Lionsgate produce the franchise.\\n\\nPage: John and Lorena Bobbitt\\nSummary: John Wayne Bobbitt (born 1967) and Lorena Gallo (formerly Lorena Bobbitt; born May 15, 1969) were an American couple, married on June 18, 1989, whose relationship received international press coverage in 1993 when Lorena severed John's penis with a kitchen knife while he was asleep in bed; the penis was successfully surgically reattached.\\nLorena, an Ecuadorian immigrant, alleged that her husband John, a bar bouncer and former U.S. Marine, had raped and abused her for years. John was charged with rape later that year but was acquitted and subsequently starred in two pornographic films. The next year, Lorena was acquitted of assault by reason of insanity and went on to start a foundation for domestic abuse victims and their children. The couple divorced in 1995.\\n\\n\", name='wikipedia_search', id='f4bcef65-ac92-4b3d-9d7a-1e72426b2de8', tool_call_id='34yb7n8qy'), AIMessage(content='', additional_kwargs={'tool_calls': [{'id': 'jcqfptmv5', 'function': {'arguments': '{\"query\":\"John\"}', 'name': 'wikipedia_search'}, 'type': 'function'}]}, response_metadata={'token_usage': {'completion_tokens': 42, 'prompt_tokens': 1512, 'total_tokens': 1554, 'completion_time': 0.076363636, 'prompt_time': 0.028725061, 'queue_time': 0.254346389, 'total_time': 0.105088697}, 'model_name': 'Gemma2-9b-it', 'system_fingerprint': 'fp_10c08bf97d', 'finish_reason': 'tool_calls', 'logprobs': None}, id='run-c0b778a9-e29d-49c5-ac60-2d3c51200a93-0', tool_calls=[{'name': 'wikipedia_search', 'args': {'query': 'John'}, 'id': 'jcqfptmv5'}]), ToolMessage(content=\"Page: John Wick\\nSummary: John Wick is an American media franchise created by Derek Kolstad. It centers on a neo-noir action thriller film series featuring titular character portrayed by Keanu Reeves. Wick is a legendary hitman who is reluctantly drawn back into the criminal underworld after retiring. The franchise began with the release of John Wick (2014), which was followed by three sequels: Chapter 2 (2017), Chapter 3 – Parabellum (2019), and Chapter 4 (2023). Various spin-offs expanded the franchise: the prequel comic book series John Wick: The Book of Rules (2017–2019), the prequel television miniseries The Continental (2023), and the spinoff film Ballerina (2025), all incorporating elements of alternate history.\\nThe films have received critical acclaim, and have been considered one of the greatest action film series of all time. Some critics and publications consider the first film, as well as Chapter 4, as two of the greatest action films ever made. The films have earned a collective gross of more than $1 billion worldwide.\\nChad Stahelski, Basil Iwanyk, and Erica Lee serve in oversight roles for the John Wick franchise. 87Eleven Productions, Thunder Road Films, and Lionsgate produce the franchise.\\n\\nPage: John and Lorena Bobbitt\\nSummary: John Wayne Bobbitt (born 1967) and Lorena Gallo (formerly Lorena Bobbitt; born May 15, 1969) were an American couple, married on June 18, 1989, whose relationship received international press coverage in 1993 when Lorena severed John's penis with a kitchen knife while he was asleep in bed; the penis was successfully surgically reattached.\\nLorena, an Ecuadorian immigrant, alleged that her husband John, a bar bouncer and former U.S. Marine, had raped and abused her for years. John was charged with rape later that year but was acquitted and subsequently starred in two pornographic films. The next year, Lorena was acquitted of assault by reason of insanity and went on to start a foundation for domestic abuse victims and their children. The couple divorced in 1995.\\n\\n\", name='wikipedia_search', id='8353a4d1-f70f-4a0e-ad2c-0964e13f6c38', tool_call_id='jcqfptmv5')]}\n",
      "Event keys: dict_keys(['messages'])\n",
      "================================\u001b[1m Human Message \u001b[0m=================================\n",
      "\n",
      "Hi there!, My name is John\n",
      "==================================\u001b[1m Ai Message \u001b[0m==================================\n",
      "Tool Calls:\n",
      "  wikipedia_search (34yb7n8qy)\n",
      " Call ID: 34yb7n8qy\n",
      "  Args:\n",
      "    query: John\n",
      "=================================\u001b[1m Tool Message \u001b[0m=================================\n",
      "Name: wikipedia_search\n",
      "\n",
      "Page: John Wick\n",
      "Summary: John Wick is an American media franchise created by Derek Kolstad. It centers on a neo-noir action thriller film series featuring titular character portrayed by Keanu Reeves. Wick is a legendary hitman who is reluctantly drawn back into the criminal underworld after retiring. The franchise began with the release of John Wick (2014), which was followed by three sequels: Chapter 2 (2017), Chapter 3 – Parabellum (2019), and Chapter 4 (2023). Various spin-offs expanded the franchise: the prequel comic book series John Wick: The Book of Rules (2017–2019), the prequel television miniseries The Continental (2023), and the spinoff film Ballerina (2025), all incorporating elements of alternate history.\n",
      "The films have received critical acclaim, and have been considered one of the greatest action film series of all time. Some critics and publications consider the first film, as well as Chapter 4, as two of the greatest action films ever made. The films have earned a collective gross of more than $1 billion worldwide.\n",
      "Chad Stahelski, Basil Iwanyk, and Erica Lee serve in oversight roles for the John Wick franchise. 87Eleven Productions, Thunder Road Films, and Lionsgate produce the franchise.\n",
      "\n",
      "Page: John and Lorena Bobbitt\n",
      "Summary: John Wayne Bobbitt (born 1967) and Lorena Gallo (formerly Lorena Bobbitt; born May 15, 1969) were an American couple, married on June 18, 1989, whose relationship received international press coverage in 1993 when Lorena severed John's penis with a kitchen knife while he was asleep in bed; the penis was successfully surgically reattached.\n",
      "Lorena, an Ecuadorian immigrant, alleged that her husband John, a bar bouncer and former U.S. Marine, had raped and abused her for years. John was charged with rape later that year but was acquitted and subsequently starred in two pornographic films. The next year, Lorena was acquitted of assault by reason of insanity and went on to start a foundation for domestic abuse victims and their children. The couple divorced in 1995.\n",
      "\n",
      "\n",
      "==================================\u001b[1m Ai Message \u001b[0m==================================\n",
      "Tool Calls:\n",
      "  wikipedia_search (jcqfptmv5)\n",
      " Call ID: jcqfptmv5\n",
      "  Args:\n",
      "    query: John\n",
      "=================================\u001b[1m Tool Message \u001b[0m=================================\n",
      "Name: wikipedia_search\n",
      "\n",
      "Page: John Wick\n",
      "Summary: John Wick is an American media franchise created by Derek Kolstad. It centers on a neo-noir action thriller film series featuring titular character portrayed by Keanu Reeves. Wick is a legendary hitman who is reluctantly drawn back into the criminal underworld after retiring. The franchise began with the release of John Wick (2014), which was followed by three sequels: Chapter 2 (2017), Chapter 3 – Parabellum (2019), and Chapter 4 (2023). Various spin-offs expanded the franchise: the prequel comic book series John Wick: The Book of Rules (2017–2019), the prequel television miniseries The Continental (2023), and the spinoff film Ballerina (2025), all incorporating elements of alternate history.\n",
      "The films have received critical acclaim, and have been considered one of the greatest action film series of all time. Some critics and publications consider the first film, as well as Chapter 4, as two of the greatest action films ever made. The films have earned a collective gross of more than $1 billion worldwide.\n",
      "Chad Stahelski, Basil Iwanyk, and Erica Lee serve in oversight roles for the John Wick franchise. 87Eleven Productions, Thunder Road Films, and Lionsgate produce the franchise.\n",
      "\n",
      "Page: John and Lorena Bobbitt\n",
      "Summary: John Wayne Bobbitt (born 1967) and Lorena Gallo (formerly Lorena Bobbitt; born May 15, 1969) were an American couple, married on June 18, 1989, whose relationship received international press coverage in 1993 when Lorena severed John's penis with a kitchen knife while he was asleep in bed; the penis was successfully surgically reattached.\n",
      "Lorena, an Ecuadorian immigrant, alleged that her husband John, a bar bouncer and former U.S. Marine, had raped and abused her for years. John was charged with rape later that year but was acquitted and subsequently starred in two pornographic films. The next year, Lorena was acquitted of assault by reason of insanity and went on to start a foundation for domestic abuse victims and their children. The couple divorced in 1995.\n",
      "\n",
      "\n",
      "==================================\u001b[1m Ai Message \u001b[0m==================================\n",
      "\n",
      "John is the name of a character in the John Wick franchise.\n"
     ]
    }
   ],
   "source": [
    "from langchain_core.messages import HumanMessage, BaseMessage\n",
    "\n",
    "user_input = \"Hi there!, My name is John\"\n",
    "\n",
    "events = graph.stream(\n",
    "    {\"messages\": [HumanMessage(content=user_input)]},\n",
    "    stream_mode=\"values\"\n",
    ")\n",
    "\n",
    "for event in events:\n",
    "    print(\"Event keys:\", event.keys())\n",
    "    if \"messages\" in event:\n",
    "        for msg in event[\"messages\"]:\n",
    "            if isinstance(msg, BaseMessage):\n",
    "                msg.pretty_print()\n"
   ]
  },
  {
   "cell_type": "code",
   "execution_count": null,
   "id": "c3e247ca",
   "metadata": {},
   "outputs": [],
   "source": []
  }
 ],
 "metadata": {
  "kernelspec": {
   "display_name": "Python 3.11 (venv)",
   "language": "python",
   "name": "venv"
  },
  "language_info": {
   "codemirror_mode": {
    "name": "ipython",
    "version": 3
   },
   "file_extension": ".py",
   "mimetype": "text/x-python",
   "name": "python",
   "nbconvert_exporter": "python",
   "pygments_lexer": "ipython3",
   "version": "3.11.5"
  }
 },
 "nbformat": 4,
 "nbformat_minor": 5
}
