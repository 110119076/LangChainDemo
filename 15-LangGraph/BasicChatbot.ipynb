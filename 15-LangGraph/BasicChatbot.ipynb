{
 "cells": [
  {
   "cell_type": "code",
   "execution_count": 2,
   "id": "4d2dd6b1",
   "metadata": {},
   "outputs": [
    {
     "data": {
      "text/plain": [
       "True"
      ]
     },
     "execution_count": 2,
     "metadata": {},
     "output_type": "execute_result"
    }
   ],
   "source": [
    "from langgraph.graph import START, END, StateGraph\n",
    "from typing import TypedDict, Annotated\n",
    "from langchain_core.messages import BaseMessage, HumanMessage\n",
    "from langchain_groq import ChatGroq\n",
    "import os\n",
    "from dotenv import load_dotenv\n",
    "load_dotenv()"
   ]
  },
  {
   "cell_type": "code",
   "execution_count": 3,
   "id": "04315ad9",
   "metadata": {},
   "outputs": [],
   "source": [
    "groq_api_key = os.getenv(\"GROQ_API_KEY\")"
   ]
  },
  {
   "cell_type": "code",
   "execution_count": 4,
   "id": "84947daa",
   "metadata": {},
   "outputs": [],
   "source": [
    "llm = ChatGroq(groq_api_key=groq_api_key, model_name=\"Gemma2-9b-It\")"
   ]
  },
  {
   "cell_type": "code",
   "execution_count": 5,
   "id": "3489926f",
   "metadata": {},
   "outputs": [
    {
     "data": {
      "text/plain": [
       "AIMessage(content='The capital of India is **New Delhi**. \\n', response_metadata={'token_usage': {'completion_tokens': 13, 'prompt_tokens': 16, 'total_tokens': 29, 'completion_time': 0.023636364, 'prompt_time': 0.0012656, 'queue_time': 0.25192066, 'total_time': 0.024901964}, 'model_name': 'Gemma2-9b-It', 'system_fingerprint': 'fp_10c08bf97d', 'finish_reason': 'stop', 'logprobs': None}, id='run-f9a996f4-8ec5-4144-8c6d-2a638f9e7621-0')"
      ]
     },
     "execution_count": 5,
     "metadata": {},
     "output_type": "execute_result"
    }
   ],
   "source": [
    "llm.invoke(\"What is the capital of India?\")"
   ]
  },
  {
   "cell_type": "code",
   "execution_count": 6,
   "id": "3cc8a41a",
   "metadata": {},
   "outputs": [],
   "source": [
    "from langgraph.graph.message import add_messages"
   ]
  },
  {
   "cell_type": "code",
   "execution_count": 7,
   "id": "fd52b33d",
   "metadata": {},
   "outputs": [],
   "source": [
    "class ChatbotState(TypedDict):\n",
    "    messages: Annotated[list[BaseMessage], add_messages]"
   ]
  },
  {
   "cell_type": "code",
   "execution_count": 8,
   "id": "b903bba7",
   "metadata": {},
   "outputs": [],
   "source": [
    "def chat_node(state: ChatbotState):\n",
    "    messages = state[\"messages\"]\n",
    "    response = llm.invoke(messages)\n",
    "    return {\"messages\": [response]}"
   ]
  },
  {
   "cell_type": "code",
   "execution_count": 15,
   "id": "a6e61e1b",
   "metadata": {},
   "outputs": [],
   "source": [
    "graph = StateGraph(ChatbotState)\n",
    "\n",
    "graph.add_node(\"chat_node\", chat_node)\n",
    "\n",
    "graph.add_edge(START, \"chat_node\")\n",
    "graph.add_edge(\"chat_node\", END)\n",
    "\n",
    "chatbot = graph.compile()"
   ]
  },
  {
   "cell_type": "code",
   "execution_count": 16,
   "id": "4c9b36f8",
   "metadata": {},
   "outputs": [
    {
     "data": {
      "text/plain": [
       "CompiledStateGraph(nodes={'__start__': PregelNode(config={'tags': ['langsmith:hidden']}, channels=['__start__'], triggers=['__start__'], writers=[ChannelWrite<messages>(recurse=True, writes=[ChannelWriteEntry(channel='messages', value=<object object at 0x000001A957AAE6E0>, skip_none=False, mapper=_get_state_key(recurse=False))]), ChannelWrite<start:chat_node>(recurse=True, writes=[ChannelWriteEntry(channel='start:chat_node', value='__start__', skip_none=False, mapper=None)])]), 'chat_node': PregelNode(config={'tags': []}, channels={'messages': 'messages'}, triggers=['start:chat_node'], mapper=functools.partial(<function _coerce_state at 0x000001A958DC28E0>, <class '__main__.ChatbotState'>), writers=[ChannelWrite<chat_node,messages>(recurse=True, writes=[ChannelWriteEntry(channel='chat_node', value='chat_node', skip_none=False, mapper=None), ChannelWriteEntry(channel='messages', value=<object object at 0x000001A957AAE6E0>, skip_none=False, mapper=_get_state_key(recurse=False))])])}, channels={'messages': <langgraph.channels.binop.BinaryOperatorAggregate object at 0x000001A969D2D910>, '__start__': <langgraph.channels.ephemeral_value.EphemeralValue object at 0x000001A969E764D0>, 'chat_node': <langgraph.channels.ephemeral_value.EphemeralValue object at 0x000001A96B5E8410>, 'start:chat_node': <langgraph.channels.ephemeral_value.EphemeralValue object at 0x000001A96B649F50>}, auto_validate=False, stream_mode='updates', output_channels=['messages'], stream_channels=['messages'], input_channels='__start__', builder=<langgraph.graph.state.StateGraph object at 0x000001A96B649D10>)"
      ]
     },
     "execution_count": 16,
     "metadata": {},
     "output_type": "execute_result"
    }
   ],
   "source": [
    "chatbot"
   ]
  },
  {
   "cell_type": "code",
   "execution_count": 17,
   "id": "cdfe86fa",
   "metadata": {},
   "outputs": [
    {
     "data": {
      "image/jpeg": "[encoded data removed]",
      "text/plain": [
       "<IPython.core.display.Image object>"
      ]
     },
     "metadata": {},
     "output_type": "display_data"
    }
   ],
   "source": [
    "from IPython.display import Image, display\n",
    "try:\n",
    "  display(Image(chatbot.get_graph().draw_mermaid_png()))\n",
    "except Exception:\n",
    "  pass"
   ]
  },
  {
   "cell_type": "code",
   "execution_count": 18,
   "id": "ae94eaf3",
   "metadata": {},
   "outputs": [
    {
     "data": {
      "text/plain": [
       "{'messages': [HumanMessage(content='What is the capital of India', id='6eaecece-885c-4b20-a11e-3d4a156fb648'),\n",
       "  AIMessage(content='The capital of India is **New Delhi**. \\n', response_metadata={'token_usage': {'completion_tokens': 13, 'prompt_tokens': 15, 'total_tokens': 28, 'completion_time': 0.023636364, 'prompt_time': 0.00125267, 'queue_time': 0.25565605599999996, 'total_time': 0.024889034}, 'model_name': 'Gemma2-9b-It', 'system_fingerprint': 'fp_10c08bf97d', 'finish_reason': 'stop', 'logprobs': None}, id='run-959bad8c-6276-40b7-9c4e-d17010e028ce-0')]}"
      ]
     },
     "execution_count": 18,
     "metadata": {},
     "output_type": "execute_result"
    }
   ],
   "source": [
    "initial_state = {\n",
    "    \"messages\": [HumanMessage(content=\"What is the capital of India\")]\n",
    "}\n",
    "\n",
    "chatbot.invoke(initial_state)"
   ]
  },
  {
   "cell_type": "code",
   "execution_count": 19,
   "id": "d127ac43",
   "metadata": {},
   "outputs": [
    {
     "data": {
      "text/plain": [
       "'The capital of India is **New Delhi**. \\n'"
      ]
     },
     "execution_count": 19,
     "metadata": {},
     "output_type": "execute_result"
    }
   ],
   "source": [
    "chatbot.invoke(initial_state)[\"messages\"][-1].content"
   ]
  },
  {
   "cell_type": "code",
   "execution_count": null,
   "id": "08c37ddc",
   "metadata": {},
   "outputs": [
    {
     "name": "stdout",
     "output_type": "stream",
     "text": [
      "User:  Hi\n",
      "Chatbot:  Hi! 👋\n",
      "\n",
      "How can I help you today? 😊\n",
      "\n",
      "User:  Who is India's Prime Minister\n",
      "Chatbot:  The Prime Minister of India is **Narendra Modi**. \n",
      "\n",
      "User:  q\n",
      "Chatbot: It's been great talking with you. Let me know if you have anything else to ask.\n"
     ]
    }
   ],
   "source": [
    "while True:\n",
    "    user_input = input(\"Type here...\")\n",
    "\n",
    "    print(\"User: \",user_input)\n",
    "\n",
    "    if user_input.strip().lower() in [\"quit\", \"q\", \"exit\", \"bye\"]:\n",
    "        print(\"Chatbot: It's been great talking with you. Let me know if you have anything else to ask.\")\n",
    "        break\n",
    "\n",
    "    response = chatbot.invoke({\"messages\":HumanMessage(content=user_input)})\n",
    "\n",
    "    print(\"Chatbot: \", response[\"messages\"][-1].content)"
   ]
  },
  {
   "cell_type": "code",
   "execution_count": null,
   "id": "3c75ef97",
   "metadata": {},
   "outputs": [
    {
     "name": "stdout",
     "output_type": "stream",
     "text": [
      "User:  Hi\n",
      "Chatbot:  Hi there! 👋  How can I help you today?\n",
      "\n",
      "User:  My name is Benky\n",
      "Chatbot:  Hello Benky! It's nice to meet you. 👋\n",
      "\n",
      "What can I do for you today?\n",
      "\n",
      "User:  What is my name?\n",
      "Chatbot:  As an AI, I have no memory of past conversations and do not know your name. If you'd like to tell me, I'm happy to learn it!\n",
      "\n",
      "User:  q\n",
      "Chatbot: It's been great talking with you. Let me know if you have anything else to ask.\n"
     ]
    }
   ],
   "source": [
    "while True:\n",
    "    user_input = input(\"Type here...\")\n",
    "\n",
    "    print(\"User: \",user_input)\n",
    "\n",
    "    if user_input.strip().lower() in [\"quit\", \"q\", \"exit\", \"bye\"]:\n",
    "        print(\"Chatbot: It's been great talking with you. Let me know if you have anything else to ask.\")\n",
    "        break\n",
    "\n",
    "    response = chatbot.invoke({\"messages\":HumanMessage(content=user_input)})\n",
    "\n",
    "    print(\"Chatbot: \", response[\"messages\"][-1].content)"
   ]
  },
  {
   "cell_type": "markdown",
   "id": "218a8d78",
   "metadata": {},
   "source": [
    "Everytime we call the invoke function the chatbotState will be set to empty, so it will not have any knowledge about our previous conversations"
   ]
  },
  {
   "cell_type": "markdown",
   "id": "37f09858",
   "metadata": {},
   "source": [
    "Store the previous chat in the RAM Memory"
   ]
  },
  {
   "cell_type": "code",
   "execution_count": 9,
   "id": "ec104ac2",
   "metadata": {},
   "outputs": [],
   "source": [
    "from langgraph.checkpoint.memory import MemorySaver"
   ]
  },
  {
   "cell_type": "code",
   "execution_count": 10,
   "id": "23ae7d59",
   "metadata": {},
   "outputs": [],
   "source": [
    "checkpointer = MemorySaver()\n",
    "\n",
    "graph = StateGraph(ChatbotState)\n",
    "\n",
    "graph.add_node(\"chat_node\", chat_node)\n",
    "\n",
    "graph.add_edge(START, \"chat_node\")\n",
    "graph.add_edge(\"chat_node\", END)\n",
    "\n",
    "chatbot = graph.compile(checkpointer=checkpointer)"
   ]
  },
  {
   "cell_type": "code",
   "execution_count": 11,
   "id": "65d15f96",
   "metadata": {},
   "outputs": [
    {
     "data": {
      "image/jpeg": "[encoded data removed]",
      "text/plain": [
       "<IPython.core.display.Image object>"
      ]
     },
     "metadata": {},
     "output_type": "display_data"
    }
   ],
   "source": [
    "from IPython.display import Image, display\n",
    "try:\n",
    "  display(Image(chatbot.get_graph().draw_mermaid_png()))\n",
    "except Exception:\n",
    "  pass"
   ]
  },
  {
   "cell_type": "markdown",
   "id": "9f278ecb",
   "metadata": {},
   "source": [
    "Have a config variable to save the thread (unique for each user)"
   ]
  },
  {
   "cell_type": "code",
   "execution_count": 12,
   "id": "4e3e1c20",
   "metadata": {},
   "outputs": [
    {
     "name": "stdout",
     "output_type": "stream",
     "text": [
      "User:  Hi\n",
      "Chatbot:  Hi! 👋\n",
      "\n",
      "How can I help you today? 😊\n",
      "\n",
      "User:  My name is Benky\n",
      "Chatbot:  Hi Benky! 👋\n",
      "\n",
      "It's nice to meet you. What can I do for you?  😊\n",
      "\n",
      "User:  What is my name\n",
      "Chatbot:  Your name is Benky! 😊  \n",
      "\n",
      "I remember that you told me.  \n",
      "\n",
      "Is there anything else I can help you with? 😄\n",
      "\n",
      "User:  Add 10 and 20\n",
      "Chatbot:  10 + 20 = 30 😊 \n",
      "\n",
      "Let me know if you have any other math problems for me! 🧮  \n",
      "\n",
      "User:  Subtract 50 from it\n",
      "Chatbot:  30 - 50 = -20 🧮 \n",
      "\n",
      "Let me know if you have any other calculations you'd like me to do!  😊 \n",
      "\n",
      "User:  Multiply it with negative 2\n",
      "Chatbot:  -20 * -2 = 40  \n",
      "\n",
      "You're getting good at this! 😊 \n",
      "\n",
      "Do you have any more math problems for me? 🧠\n",
      "\n",
      "User:  Multiply with -2\n",
      "Chatbot:  40 * -2 = -80 \n",
      "\n",
      "So the final answer is -80.  \n",
      "\n",
      "Keep those math skills sharp! 💪\n",
      "\n",
      "User:  q\n",
      "Chatbot: It's been great talking with you. Let me know if you have anything else to ask.\n"
     ]
    }
   ],
   "source": [
    "thread_id = \"1\"\n",
    "while True:\n",
    "    user_input = input(\"Type here...\")\n",
    "\n",
    "    print(\"User: \",user_input)\n",
    "\n",
    "    if user_input.strip().lower() in [\"quit\", \"q\", \"exit\", \"bye\"]:\n",
    "        print(\"Chatbot: It's been great talking with you. Let me know if you have anything else to ask.\")\n",
    "        break\n",
    "\n",
    "    config = {\"configurable\": {\"thread_id\":thread_id}}\n",
    "\n",
    "    response = chatbot.invoke({\"messages\":HumanMessage(content=user_input)}, config=config)\n",
    "\n",
    "    print(\"Chatbot: \", response[\"messages\"][-1].content)"
   ]
  },
  {
   "cell_type": "code",
   "execution_count": 13,
   "id": "9f0c27fd",
   "metadata": {},
   "outputs": [
    {
     "data": {
      "text/plain": [
       "StateSnapshot(values={'messages': [HumanMessage(content='Hi', id='d8610242-957d-40eb-867b-e0ff400f9849'), AIMessage(content='Hi! 👋\\n\\nHow can I help you today? 😊\\n', response_metadata={'finish_reason': 'stop', 'logprobs': None, 'model_name': 'Gemma2-9b-It', 'system_fingerprint': 'fp_10c08bf97d', 'token_usage': {'completion_time': 0.027272727, 'completion_tokens': 15, 'prompt_time': 0.00117126, 'prompt_tokens': 10, 'queue_time': 0.25071718, 'total_time': 0.028443987, 'total_tokens': 25}}, id='run-9aa902c3-7a94-46f0-a8b9-aa1659e272df-0'), HumanMessage(content='My name is Benky', id='de71e979-6c4e-408d-90fb-03eb45d2c504'), AIMessage(content=\"Hi Benky! 👋\\n\\nIt's nice to meet you. What can I do for you?  😊\\n\", response_metadata={'finish_reason': 'stop', 'logprobs': None, 'model_name': 'Gemma2-9b-It', 'system_fingerprint': 'fp_10c08bf97d', 'token_usage': {'completion_time': 0.047272727, 'completion_tokens': 26, 'prompt_time': 0.00156121, 'prompt_tokens': 38, 'queue_time': 0.250236126, 'total_time': 0.048833937, 'total_tokens': 64}}, id='run-b251bc9a-e044-444b-a2d9-49bbb02dc89b-0'), HumanMessage(content='What is my name', id='4b0b4b5a-52fe-4787-b1e7-23a8c0807da4'), AIMessage(content='Your name is Benky! 😊  \\n\\nI remember that you told me.  \\n\\nIs there anything else I can help you with? 😄\\n', response_metadata={'finish_reason': 'stop', 'logprobs': None, 'model_name': 'Gemma2-9b-It', 'system_fingerprint': 'fp_10c08bf97d', 'token_usage': {'completion_time': 0.058181818, 'completion_tokens': 32, 'prompt_time': 0.00235807, 'prompt_tokens': 76, 'queue_time': 0.25434492000000003, 'total_time': 0.060539888, 'total_tokens': 108}}, id='run-0039a620-9f47-4b7d-9c5a-fcc21dae1e9b-0'), HumanMessage(content='Add 10 and 20', id='610b7066-a9fa-4de9-86b7-843d6ce0dd3e'), AIMessage(content='10 + 20 = 30 😊 \\n\\nLet me know if you have any other math problems for me! 🧮  \\n', response_metadata={'finish_reason': 'stop', 'logprobs': None, 'model_name': 'Gemma2-9b-It', 'system_fingerprint': 'fp_10c08bf97d', 'token_usage': {'completion_time': 0.058181818, 'completion_tokens': 32, 'prompt_time': 0.003759549, 'prompt_tokens': 124, 'queue_time': 0.277262471, 'total_time': 0.061941367, 'total_tokens': 156}}, id='run-b8eb22bb-38fb-45d2-8178-5e3449c5bc95-0'), HumanMessage(content='Subtract 50 from it', id='c45a609a-0e6d-4ec0-98a1-74c5a57de27b'), AIMessage(content=\"30 - 50 = -20 🧮 \\n\\nLet me know if you have any other calculations you'd like me to do!  😊 \\n\", response_metadata={'finish_reason': 'stop', 'logprobs': None, 'model_name': 'Gemma2-9b-It', 'system_fingerprint': 'fp_10c08bf97d', 'token_usage': {'completion_time': 0.067272727, 'completion_tokens': 37, 'prompt_time': 0.003915269, 'prompt_tokens': 170, 'queue_time': 0.260122361, 'total_time': 0.071187996, 'total_tokens': 207}}, id='run-a02ca351-595c-4f4e-b08c-cd7d7aa97100-0'), HumanMessage(content='Multiply it with negative 2', id='d98503ac-b1aa-4481-93cb-c0ca0e8a81d2'), AIMessage(content=\"-20 * -2 = 40  \\n\\nYou're getting good at this! 😊 \\n\\nDo you have any more math problems for me? 🧠\\n\", response_metadata={'finish_reason': 'stop', 'logprobs': None, 'model_name': 'Gemma2-9b-It', 'system_fingerprint': 'fp_10c08bf97d', 'token_usage': {'completion_time': 0.069090909, 'completion_tokens': 38, 'prompt_time': 0.004860628, 'prompt_tokens': 221, 'queue_time': 0.260568856, 'total_time': 0.073951537, 'total_tokens': 259}}, id='run-5e939a55-3ccd-4fb1-b470-79a8b2e3958b-0'), HumanMessage(content='Multiply with -2', id='6a399a53-a49b-44aa-942b-1bac5f670278'), AIMessage(content='40 * -2 = -80 \\n\\nSo the final answer is -80.  \\n\\nKeep those math skills sharp! 💪\\n', response_metadata={'finish_reason': 'stop', 'logprobs': None, 'model_name': 'Gemma2-9b-It', 'system_fingerprint': 'fp_10c08bf97d', 'token_usage': {'completion_time': 0.058181818, 'completion_tokens': 32, 'prompt_time': 0.006560198, 'prompt_tokens': 271, 'queue_time': 0.25196417699999996, 'total_time': 0.064742016, 'total_tokens': 303}}, id='run-ff8e1700-bf13-4d39-9c76-f5486f08be02-0')]}, next=(), config={'configurable': {'thread_id': '1', 'thread_ts': '1f06ab1a-45e8-6a91-8013-9efd9018eaaa'}}, metadata={'source': 'loop', 'step': 19, 'writes': {'chat_node': {'messages': [AIMessage(content='40 * -2 = -80 \\n\\nSo the final answer is -80.  \\n\\nKeep those math skills sharp! 💪\\n', response_metadata={'finish_reason': 'stop', 'logprobs': None, 'model_name': 'Gemma2-9b-It', 'system_fingerprint': 'fp_10c08bf97d', 'token_usage': {'completion_time': 0.058181818, 'completion_tokens': 32, 'prompt_time': 0.006560198, 'prompt_tokens': 271, 'queue_time': 0.25196417699999996, 'total_time': 0.064742016, 'total_tokens': 303}}, id='run-ff8e1700-bf13-4d39-9c76-f5486f08be02-0')]}}}, parent_config=None)"
      ]
     },
     "execution_count": 13,
     "metadata": {},
     "output_type": "execute_result"
    }
   ],
   "source": [
    "chatbot.get_state(config=config)"
   ]
  },
  {
   "cell_type": "code",
   "execution_count": null,
   "id": "b7c1fcbb",
   "metadata": {},
   "outputs": [],
   "source": []
  }
 ],
 "metadata": {
  "kernelspec": {
   "display_name": "Python 3.11 (venv)",
   "language": "python",
   "name": "venv"
  },
  "language_info": {
   "codemirror_mode": {
    "name": "ipython",
    "version": 3
   },
   "file_extension": ".py",
   "mimetype": "text/x-python",
   "name": "python",
   "nbconvert_exporter": "python",
   "pygments_lexer": "ipython3",
   "version": "3.11.5"
  }
 },
 "nbformat": 4,
 "nbformat_minor": 5
}
