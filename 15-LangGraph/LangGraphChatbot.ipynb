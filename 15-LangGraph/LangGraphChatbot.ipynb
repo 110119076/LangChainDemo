{
 "cells": [
  {
   "cell_type": "code",
   "execution_count": 1,
   "id": "d16b633e",
   "metadata": {},
   "outputs": [
    {
     "data": {
      "text/plain": [
       "True"
      ]
     },
     "execution_count": 1,
     "metadata": {},
     "output_type": "execute_result"
    }
   ],
   "source": [
    "import os\n",
    "from dotenv import load_dotenv\n",
    "load_dotenv()"
   ]
  },
  {
   "cell_type": "code",
   "execution_count": 2,
   "id": "d4791ade",
   "metadata": {},
   "outputs": [],
   "source": [
    "os.environ[\"LANGCHAIN_API_KEY\"] = os.getenv(\"LANGCHAIN_API_KEY\")\n",
    "os.environ[\"LANGCHAIN_TRACING_V2\"]=\"true\"\n",
    "os.environ[\"LANGCHAIN_PROJECT\"]=\"LanggraphChatbot\""
   ]
  },
  {
   "cell_type": "code",
   "execution_count": 3,
   "id": "dda30ddc",
   "metadata": {},
   "outputs": [],
   "source": [
    "groq_api_key = os.getenv(\"GROQ_API_KEY\")"
   ]
  },
  {
   "cell_type": "code",
   "execution_count": 4,
   "id": "1df4e1ee",
   "metadata": {},
   "outputs": [],
   "source": [
    "from langchain_groq import ChatGroq"
   ]
  },
  {
   "cell_type": "code",
   "execution_count": 5,
   "id": "5554f4ff",
   "metadata": {},
   "outputs": [],
   "source": [
    "llm = ChatGroq(groq_api_key=groq_api_key, model_name=\"Gemma2-9b-It\")"
   ]
  },
  {
   "cell_type": "code",
   "execution_count": 46,
   "id": "9bc10379",
   "metadata": {},
   "outputs": [],
   "source": [
    "from typing import Annotated\n",
    "from typing_extensions import TypedDict\n",
    "from langgraph.graph import START, StateGraph, END\n",
    "from langgraph.graph import add_messages"
   ]
  },
  {
   "cell_type": "code",
   "execution_count": 47,
   "id": "fcdde046",
   "metadata": {},
   "outputs": [],
   "source": [
    "class State(TypedDict):\n",
    "    # Messages have the type \"list\". The `add_messages` function\n",
    "    # in the annotation defines how this state key should be updated\n",
    "    # (in this case, it appends messages to the list, rather than overwriting them)\n",
    "    messages = Annotated[list, add_messages]"
   ]
  },
  {
   "cell_type": "code",
   "execution_count": 77,
   "id": "33c8d4e6",
   "metadata": {},
   "outputs": [],
   "source": [
    "def chatbot(state: State):\n",
    "    print(state)\n",
    "    return {\"messages\": [llm.invoke(state[\"messages\"])]}"
   ]
  },
  {
   "cell_type": "code",
   "execution_count": 78,
   "id": "e35ad236",
   "metadata": {},
   "outputs": [
    {
     "data": {
      "text/plain": [
       "<langgraph.graph.state.StateGraph at 0x22ab4d83bd0>"
      ]
     },
     "execution_count": 78,
     "metadata": {},
     "output_type": "execute_result"
    }
   ],
   "source": [
    "graph_builder = StateGraph(State)\n",
    "graph_builder.add_node(\"chatbot\", chatbot)\n",
    "graph_builder"
   ]
  },
  {
   "cell_type": "code",
   "execution_count": 79,
   "id": "f47c1ff2",
   "metadata": {},
   "outputs": [],
   "source": [
    "graph_builder.add_edge(START, \"chatbot\")\n",
    "graph_builder.add_edge(\"chatbot\", END)"
   ]
  },
  {
   "cell_type": "code",
   "execution_count": 80,
   "id": "4c6f8fd1",
   "metadata": {},
   "outputs": [],
   "source": [
    "graph = graph_builder.compile()"
   ]
  },
  {
   "cell_type": "code",
   "execution_count": 81,
   "id": "ec57305f",
   "metadata": {},
   "outputs": [
    {
     "data": {
      "text/plain": [
       "CompiledStateGraph(nodes={'__start__': PregelNode(config={'tags': ['langsmith:hidden']}, channels=['__start__'], triggers=['__start__'], writers=[ChannelWrite<messages>(recurse=True, writes=[ChannelWriteEntry(channel='messages', value=<object object at 0x0000022AA2400F20>, skip_none=False, mapper=_get_state_key(recurse=False))]), ChannelWrite<start:chatbot>(recurse=True, writes=[ChannelWriteEntry(channel='start:chatbot', value='__start__', skip_none=False, mapper=None)])]), 'chatbot': PregelNode(config={'tags': []}, channels={'messages': 'messages'}, triggers=['start:chatbot'], mapper=functools.partial(<function _coerce_state at 0x0000022AB1B7A020>, <class '__main__.State'>), writers=[ChannelWrite<chatbot,messages>(recurse=True, writes=[ChannelWriteEntry(channel='chatbot', value='chatbot', skip_none=False, mapper=None), ChannelWriteEntry(channel='messages', value=<object object at 0x0000022AA2400F20>, skip_none=False, mapper=_get_state_key(recurse=False))])])}, channels={'messages': <langgraph.channels.binop.BinaryOperatorAggregate object at 0x0000022AB47193D0>, '__start__': <langgraph.channels.ephemeral_value.EphemeralValue object at 0x0000022AB2B143D0>, 'chatbot': <langgraph.channels.ephemeral_value.EphemeralValue object at 0x0000022AB46DD810>, 'start:chatbot': <langgraph.channels.ephemeral_value.EphemeralValue object at 0x0000022AB478BD50>}, auto_validate=False, stream_mode='updates', output_channels=['messages'], stream_channels=['messages'], input_channels='__start__', builder=<langgraph.graph.state.StateGraph object at 0x0000022AB4D83BD0>)"
      ]
     },
     "execution_count": 81,
     "metadata": {},
     "output_type": "execute_result"
    }
   ],
   "source": [
    "graph"
   ]
  },
  {
   "cell_type": "code",
   "execution_count": 82,
   "id": "d6caf14b",
   "metadata": {},
   "outputs": [
    {
     "data": {
      "image/jpeg": "[encoded data removed]",
      "text/plain": [
       "<IPython.core.display.Image object>"
      ]
     },
     "metadata": {},
     "output_type": "display_data"
    }
   ],
   "source": [
    "from IPython.display import Image, display\n",
    "try:\n",
    "  display(Image(graph.get_graph().draw_mermaid_png()))\n",
    "except Exception:\n",
    "  pass"
   ]
  },
  {
   "cell_type": "code",
   "execution_count": 83,
   "id": "1b148e10",
   "metadata": {},
   "outputs": [
    {
     "name": "stdout",
     "output_type": "stream",
     "text": [
      "{'messages': [HumanMessage(content='Hi', id='a8a24e89-43b3-4996-adb2-f022c757e95d')]}\n",
      "Assistant: Hi! 👋\n",
      "\n",
      "How can I help you today? 😊\n",
      "\n",
      "{'messages': [HumanMessage(content='What is GenAI', id='bc56d1fa-dc3a-4565-8c29-6c0a370f8838')]}\n",
      "Assistant: **GenAI** stands for **Generative Artificial Intelligence**. \n",
      "\n",
      "It's a type of artificial intelligence that focuses on creating new content, rather than simply analyzing existing data. \n",
      "\n",
      "Think of it like this: traditional AI is great at recognizing patterns and making predictions based on what it's already seen. GenAI takes it a step further by learning those patterns and then using them to generate something entirely new.\n",
      "\n",
      "**Here are some key things to know about GenAI:**\n",
      "\n",
      "* **Types of Content:** GenAI can create a wide range of content, including:\n",
      "    * **Text:** Stories, articles, poems, code, dialogue\n",
      "    * **Images:** Photos, artwork, illustrations\n",
      "    * **Audio:** Music, sound effects, voiceovers\n",
      "    * **Video:** Short clips, animations\n",
      "    * **Other:** 3D models, game levels\n",
      "\n",
      "* **How it Works:** GenAI models are typically trained on massive datasets of existing content. They learn the underlying patterns and structures in that data, and then use that knowledge to generate new content that follows similar rules.\n",
      "\n",
      "* **Examples:** Some popular examples of GenAI include:\n",
      "    * **ChatGPT:** A text-based chatbot that can generate human-like conversation.\n",
      "    * **DALL-E 2:** An image generation model that can create realistic images from text descriptions.\n",
      "    * **Jukebox:** A music generation model that can create original songs in different styles.\n",
      "\n",
      "* **Applications:** GenAI has a wide range of potential applications, including:\n",
      "    * **Creative Industries:** Writing assistance, art and design, music production\n",
      "    * **Marketing and Advertising:** Content creation, personalized experiences\n",
      "    * **Education:** Personalized learning, interactive simulations\n",
      "    * **Research:** Data analysis, hypothesis generation\n",
      "\n",
      "* **Ethical Considerations:** Like any powerful technology, GenAI raises ethical concerns, such as:\n",
      "    * **Bias:** GenAI models can inherit and amplify biases present in the training data.\n",
      "    * **Misinformation:** GenAI can be used to create convincing fake news and propaganda.\n",
      "    * **Job displacement:** GenAI may automate tasks currently performed by humans.\n",
      "\n",
      "\n",
      "GenAI is a rapidly evolving field with the potential to revolutionize many aspects of our lives. It's important to stay informed about its capabilities and limitations, as well as the ethical considerations it raises.\n",
      "\n",
      "Good Bye\n"
     ]
    }
   ],
   "source": [
    "from langchain_core.messages import HumanMessage\n",
    "\n",
    "while True:\n",
    "    user_input = input(\"User: \")\n",
    "    if user_input.lower() in [\"quit\", \"q\"]:\n",
    "        print(\"Good Bye\")\n",
    "        break\n",
    "\n",
    "    # ✅ Proper input format\n",
    "    for event in graph.stream({\"messages\": [HumanMessage(content=user_input)]}):\n",
    "        for value in event.values():\n",
    "            for msg in value[\"messages\"]:\n",
    "                print(\"Assistant:\", msg.content)\n"
   ]
  },
  {
   "cell_type": "code",
   "execution_count": null,
   "id": "d321430b",
   "metadata": {},
   "outputs": [],
   "source": []
  }
 ],
 "metadata": {
  "kernelspec": {
   "display_name": "Python 3.11 (venv)",
   "language": "python",
   "name": "venv"
  },
  "language_info": {
   "codemirror_mode": {
    "name": "ipython",
    "version": 3
   },
   "file_extension": ".py",
   "mimetype": "text/x-python",
   "name": "python",
   "nbconvert_exporter": "python",
   "pygments_lexer": "ipython3",
   "version": "3.11.5"
  }
 },
 "nbformat": 4,
 "nbformat_minor": 5
}
