{
 "cells": [
  {
   "cell_type": "code",
   "execution_count": 102,
   "id": "32939b73",
   "metadata": {},
   "outputs": [
    {
     "data": {
      "text/plain": [
       "True"
      ]
     },
     "execution_count": 102,
     "metadata": {},
     "output_type": "execute_result"
    }
   ],
   "source": [
    "import os\n",
    "from dotenv import load_dotenv\n",
    "load_dotenv()"
   ]
  },
  {
   "cell_type": "code",
   "execution_count": 103,
   "id": "3c9119ec",
   "metadata": {},
   "outputs": [],
   "source": [
    "from langchain_groq import ChatGroq\n",
    "from langgraph.graph import StateGraph, START, END\n",
    "from langchain_core.messages import SystemMessage, HumanMessage\n",
    "import operator\n",
    "from typing import TypedDict, Literal, Annotated"
   ]
  },
  {
   "cell_type": "code",
   "execution_count": 104,
   "id": "19947a48",
   "metadata": {},
   "outputs": [],
   "source": [
    "groq_api_key = os.getenv(\"GROQ_API_KEY\")"
   ]
  },
  {
   "cell_type": "code",
   "execution_count": 105,
   "id": "ad09871b",
   "metadata": {},
   "outputs": [],
   "source": [
    "llm = ChatGroq(groq_api_key=groq_api_key, model_name=\"Gemma2-9b-It\")"
   ]
  },
  {
   "cell_type": "code",
   "execution_count": 107,
   "id": "8a866c2f",
   "metadata": {},
   "outputs": [],
   "source": [
    "generator_llm = evaluator_llm = optimizer_llm = llm"
   ]
  },
  {
   "cell_type": "code",
   "execution_count": 108,
   "id": "3552566e",
   "metadata": {},
   "outputs": [],
   "source": [
    "from pydantic import BaseModel, Field"
   ]
  },
  {
   "cell_type": "code",
   "execution_count": 109,
   "id": "7495310d",
   "metadata": {},
   "outputs": [],
   "source": [
    "class PostEvaluation(BaseModel):\n",
    "    evaluation: Literal[\"approved\", \"needs_improvement\"] = Field(..., description=\"Final evaluation result.\")\n",
    "    feedback: str = Field(..., description=\"Feedback for the post.\")"
   ]
  },
  {
   "cell_type": "code",
   "execution_count": 110,
   "id": "ebc2b80c",
   "metadata": {},
   "outputs": [],
   "source": [
    "structured_evaluator_llm = evaluator_llm.with_structured_output(PostEvaluation)"
   ]
  },
  {
   "cell_type": "markdown",
   "id": "a8d02bc6",
   "metadata": {},
   "source": [
    "### State"
   ]
  },
  {
   "cell_type": "code",
   "execution_count": 111,
   "id": "d771fd35",
   "metadata": {},
   "outputs": [],
   "source": [
    "class PostState(TypedDict):\n",
    "    topic: str\n",
    "    post: str\n",
    "    evaluation: Literal[\"approved\", \"needs_improvement\"]\n",
    "    feedback: str\n",
    "    iteration: int\n",
    "    max_iteration: int\n",
    "    post_history: Annotated[list[str], operator.add]\n",
    "    feedback_history: Annotated[list[str], operator.add]"
   ]
  },
  {
   "cell_type": "code",
   "execution_count": 112,
   "id": "1c310776",
   "metadata": {},
   "outputs": [],
   "source": [
    "def generate_post(state: PostState):\n",
    "    messages = [\n",
    "        SystemMessage(content=\"You are a very funny & clever Instagram influencer.\"),\n",
    "        HumanMessage(content=f\"\"\"\n",
    "        Write a short, original and hilarious post on the topic: \"{state[\"topic\"]}\".\n",
    "        Rules:\n",
    "            - Do NOT use question-answer format.\n",
    "            - Max 280 characters.\n",
    "            - Use observational humor, irony, sarcasm, or cultural references.\n",
    "            - Think in meme logic, punchlines, or relatable takes.\n",
    "            - Use simple, day to day english\n",
    "        \"\"\")\n",
    "    ]\n",
    "    response = generator_llm.invoke(messages).content\n",
    "    return {\"post\": response, \"post_history\":[response]}"
   ]
  },
  {
   "cell_type": "code",
   "execution_count": 113,
   "id": "4ebd1824",
   "metadata": {},
   "outputs": [],
   "source": [
    "def evaluate_post(state: PostState):\n",
    "    messages = [\n",
    "        SystemMessage(content=\"You are a ruthless, no laugh given Insta critic. You evaluate \" \\\n",
    "        \"posts based on the humour, originality, virality and post format.\"),\n",
    "        HumanMessage(content=f\"\"\"\n",
    "        Evaluate the following post:\n",
    "        Post: \"{state['post']}\"\n",
    "        Use the criteria below to evaluate the post:\n",
    "        1. Originality – Is this fresh, or have you seen it a hundred times before?  \n",
    "        2. Humor – Did it genuinely make you smile, laugh, or chuckle?  \n",
    "        3. Punchiness – Is it short, sharp, and scroll-stopping?  \n",
    "        4. Virality Potential – Would people repost or share it?  \n",
    "        5. Format – Is it a well-formed post (not a setup-punchline joke, not a Q&A joke, and under 280 characters)?\n",
    "\n",
    "        Auto-reject if:\n",
    "        - It's written in question-answer format (e.g., \"Why did...\" or \"What happens when...\")\n",
    "        - It exceeds 280 characters\n",
    "        - It reads like a traditional setup-punchline joke\n",
    "        - Dont end with generic, throwaway, or deflating lines that weaken the humor (e.g., “Masterpieces of the auntie-uncle universe” or vague summaries)\n",
    "\n",
    "        ### Respond ONLY in structured format:\n",
    "        - evaluation: \"approved\" or \"needs_improvement\"  \n",
    "        - feedback: One paragraph explaining the strengths and weaknesses \n",
    "        \"\"\")\n",
    "    ]\n",
    "    response = structured_evaluator_llm.invoke(messages)\n",
    "    return {\"evaluation\": response.evaluation, \"feedback\": response.feedback, \"feedback_history\":[response.feedback]}"
   ]
  },
  {
   "cell_type": "code",
   "execution_count": 114,
   "id": "841a7356",
   "metadata": {},
   "outputs": [],
   "source": [
    "def optimize_post(state: PostState):\n",
    "    messages = [\n",
    "        SystemMessage(content=\"You punch up posts for virality and humor based on given feedback.\"),\n",
    "        HumanMessage(content=f\"\"\"\n",
    "        Improve the post based on this feedback:\n",
    "        \"{state[\"feedback\"]}\"\n",
    "\n",
    "        Topic: \"{state[\"topic\"]}\"\n",
    "        Original Post: \"{state[\"post\"]}\"\n",
    "        Re-write it as a short, viral-worthy post. Avoid Q&A style and stay under 280 characters.\n",
    "        \"\"\")\n",
    "    ]\n",
    "    response = optimizer_llm.invoke(messages).content\n",
    "    iteration = state[\"iteration\"]+1\n",
    "    return {\"post\": response, \"iteration\": iteration, \"post_history\":[response]}\n"
   ]
  },
  {
   "cell_type": "code",
   "execution_count": 115,
   "id": "03b92cdf",
   "metadata": {},
   "outputs": [],
   "source": [
    "def route_evaluation(state: PostState):\n",
    "    if state[\"evaluation\"] == \"approved\" or state[\"iteration\"] >= state[\"max_iteration\"]:\n",
    "        return \"approved\"\n",
    "    else:\n",
    "        return \"needs_improvement\""
   ]
  },
  {
   "cell_type": "code",
   "execution_count": 116,
   "id": "905302e5",
   "metadata": {},
   "outputs": [],
   "source": [
    "graph_builder = StateGraph(PostState)"
   ]
  },
  {
   "cell_type": "code",
   "execution_count": 117,
   "id": "a005e308",
   "metadata": {},
   "outputs": [
    {
     "data": {
      "text/plain": [
       "<langgraph.graph.state.StateGraph at 0x18861389150>"
      ]
     },
     "execution_count": 117,
     "metadata": {},
     "output_type": "execute_result"
    }
   ],
   "source": [
    "graph_builder"
   ]
  },
  {
   "cell_type": "code",
   "execution_count": 118,
   "id": "af3c5484",
   "metadata": {},
   "outputs": [],
   "source": [
    "graph_builder.add_node(\"generator\", generate_post)\n",
    "graph_builder.add_node(\"evaluator\", evaluate_post)\n",
    "graph_builder.add_node(\"optimizer\", optimize_post)\n",
    "\n",
    "graph_builder.add_edge(START, \"generator\")\n",
    "graph_builder.add_edge(\"generator\", \"evaluator\")\n",
    "\n",
    "graph_builder.add_conditional_edges(\"evaluator\", route_evaluation, {\"approved\": END, \"needs_improvement\": \"optimizer\"})\n",
    "graph_builder.add_edge(\"optimizer\", \"evaluator\")"
   ]
  },
  {
   "cell_type": "code",
   "execution_count": 119,
   "id": "4f819982",
   "metadata": {},
   "outputs": [],
   "source": [
    "graph = graph_builder.compile()"
   ]
  },
  {
   "cell_type": "code",
   "execution_count": 120,
   "id": "22d217e3",
   "metadata": {},
   "outputs": [
    {
     "data": {
      "text/plain": [
       "CompiledStateGraph(nodes={'__start__': PregelNode(config={'tags': ['langsmith:hidden']}, channels=['__start__'], triggers=['__start__'], writers=[ChannelWrite<topic,post,evaluation,feedback,iteration,max_iteration,post_history,feedback_history>(recurse=True, writes=[ChannelWriteEntry(channel='topic', value=<object object at 0x000001884B4EEC70>, skip_none=False, mapper=_get_state_key(recurse=False)), ChannelWriteEntry(channel='post', value=<object object at 0x000001884B4EEC70>, skip_none=False, mapper=_get_state_key(recurse=False)), ChannelWriteEntry(channel='evaluation', value=<object object at 0x000001884B4EEC70>, skip_none=False, mapper=_get_state_key(recurse=False)), ChannelWriteEntry(channel='feedback', value=<object object at 0x000001884B4EEC70>, skip_none=False, mapper=_get_state_key(recurse=False)), ChannelWriteEntry(channel='iteration', value=<object object at 0x000001884B4EEC70>, skip_none=False, mapper=_get_state_key(recurse=False)), ChannelWriteEntry(channel='max_iteration', value=<object object at 0x000001884B4EEC70>, skip_none=False, mapper=_get_state_key(recurse=False)), ChannelWriteEntry(channel='post_history', value=<object object at 0x000001884B4EEC70>, skip_none=False, mapper=_get_state_key(recurse=False)), ChannelWriteEntry(channel='feedback_history', value=<object object at 0x000001884B4EEC70>, skip_none=False, mapper=_get_state_key(recurse=False))]), ChannelWrite<start:generator>(recurse=True, writes=[ChannelWriteEntry(channel='start:generator', value='__start__', skip_none=False, mapper=None)])]), 'generator': PregelNode(config={'tags': []}, channels={'topic': 'topic', 'post': 'post', 'evaluation': 'evaluation', 'feedback': 'feedback', 'iteration': 'iteration', 'max_iteration': 'max_iteration', 'post_history': 'post_history', 'feedback_history': 'feedback_history'}, triggers=['start:generator'], mapper=functools.partial(<function _coerce_state at 0x000001884CAD5F80>, <class '__main__.PostState'>), writers=[ChannelWrite<generator,topic,post,evaluation,feedback,iteration,max_iteration,post_history,feedback_history>(recurse=True, writes=[ChannelWriteEntry(channel='generator', value='generator', skip_none=False, mapper=None), ChannelWriteEntry(channel='topic', value=<object object at 0x000001884B4EEC70>, skip_none=False, mapper=_get_state_key(recurse=False)), ChannelWriteEntry(channel='post', value=<object object at 0x000001884B4EEC70>, skip_none=False, mapper=_get_state_key(recurse=False)), ChannelWriteEntry(channel='evaluation', value=<object object at 0x000001884B4EEC70>, skip_none=False, mapper=_get_state_key(recurse=False)), ChannelWriteEntry(channel='feedback', value=<object object at 0x000001884B4EEC70>, skip_none=False, mapper=_get_state_key(recurse=False)), ChannelWriteEntry(channel='iteration', value=<object object at 0x000001884B4EEC70>, skip_none=False, mapper=_get_state_key(recurse=False)), ChannelWriteEntry(channel='max_iteration', value=<object object at 0x000001884B4EEC70>, skip_none=False, mapper=_get_state_key(recurse=False)), ChannelWriteEntry(channel='post_history', value=<object object at 0x000001884B4EEC70>, skip_none=False, mapper=_get_state_key(recurse=False)), ChannelWriteEntry(channel='feedback_history', value=<object object at 0x000001884B4EEC70>, skip_none=False, mapper=_get_state_key(recurse=False))])]), 'evaluator': PregelNode(config={'tags': []}, channels={'topic': 'topic', 'post': 'post', 'evaluation': 'evaluation', 'feedback': 'feedback', 'iteration': 'iteration', 'max_iteration': 'max_iteration', 'post_history': 'post_history', 'feedback_history': 'feedback_history'}, triggers=['generator', 'optimizer'], mapper=functools.partial(<function _coerce_state at 0x000001884CAD5F80>, <class '__main__.PostState'>), writers=[ChannelWrite<evaluator,topic,post,evaluation,feedback,iteration,max_iteration,post_history,feedback_history>(recurse=True, writes=[ChannelWriteEntry(channel='evaluator', value='evaluator', skip_none=False, mapper=None), ChannelWriteEntry(channel='topic', value=<object object at 0x000001884B4EEC70>, skip_none=False, mapper=_get_state_key(recurse=False)), ChannelWriteEntry(channel='post', value=<object object at 0x000001884B4EEC70>, skip_none=False, mapper=_get_state_key(recurse=False)), ChannelWriteEntry(channel='evaluation', value=<object object at 0x000001884B4EEC70>, skip_none=False, mapper=_get_state_key(recurse=False)), ChannelWriteEntry(channel='feedback', value=<object object at 0x000001884B4EEC70>, skip_none=False, mapper=_get_state_key(recurse=False)), ChannelWriteEntry(channel='iteration', value=<object object at 0x000001884B4EEC70>, skip_none=False, mapper=_get_state_key(recurse=False)), ChannelWriteEntry(channel='max_iteration', value=<object object at 0x000001884B4EEC70>, skip_none=False, mapper=_get_state_key(recurse=False)), ChannelWriteEntry(channel='post_history', value=<object object at 0x000001884B4EEC70>, skip_none=False, mapper=_get_state_key(recurse=False)), ChannelWriteEntry(channel='feedback_history', value=<object object at 0x000001884B4EEC70>, skip_none=False, mapper=_get_state_key(recurse=False))]), _route(recurse=True, _is_channel_writer=True)]), 'optimizer': PregelNode(config={'tags': []}, channels={'topic': 'topic', 'post': 'post', 'evaluation': 'evaluation', 'feedback': 'feedback', 'iteration': 'iteration', 'max_iteration': 'max_iteration', 'post_history': 'post_history', 'feedback_history': 'feedback_history'}, triggers=['branch:evaluator:route_evaluation:optimizer'], mapper=functools.partial(<function _coerce_state at 0x000001884CAD5F80>, <class '__main__.PostState'>), writers=[ChannelWrite<optimizer,topic,post,evaluation,feedback,iteration,max_iteration,post_history,feedback_history>(recurse=True, writes=[ChannelWriteEntry(channel='optimizer', value='optimizer', skip_none=False, mapper=None), ChannelWriteEntry(channel='topic', value=<object object at 0x000001884B4EEC70>, skip_none=False, mapper=_get_state_key(recurse=False)), ChannelWriteEntry(channel='post', value=<object object at 0x000001884B4EEC70>, skip_none=False, mapper=_get_state_key(recurse=False)), ChannelWriteEntry(channel='evaluation', value=<object object at 0x000001884B4EEC70>, skip_none=False, mapper=_get_state_key(recurse=False)), ChannelWriteEntry(channel='feedback', value=<object object at 0x000001884B4EEC70>, skip_none=False, mapper=_get_state_key(recurse=False)), ChannelWriteEntry(channel='iteration', value=<object object at 0x000001884B4EEC70>, skip_none=False, mapper=_get_state_key(recurse=False)), ChannelWriteEntry(channel='max_iteration', value=<object object at 0x000001884B4EEC70>, skip_none=False, mapper=_get_state_key(recurse=False)), ChannelWriteEntry(channel='post_history', value=<object object at 0x000001884B4EEC70>, skip_none=False, mapper=_get_state_key(recurse=False)), ChannelWriteEntry(channel='feedback_history', value=<object object at 0x000001884B4EEC70>, skip_none=False, mapper=_get_state_key(recurse=False))])])}, channels={'topic': <langgraph.channels.last_value.LastValue object at 0x0000018861389190>, 'post': <langgraph.channels.last_value.LastValue object at 0x00000188613AAFD0>, 'evaluation': <langgraph.channels.last_value.LastValue object at 0x0000018861392E10>, 'feedback': <langgraph.channels.last_value.LastValue object at 0x0000018861390B90>, 'iteration': <langgraph.channels.last_value.LastValue object at 0x0000018861392210>, 'max_iteration': <langgraph.channels.last_value.LastValue object at 0x0000018861392D50>, 'post_history': <langgraph.channels.binop.BinaryOperatorAggregate object at 0x0000018861390C90>, 'feedback_history': <langgraph.channels.binop.BinaryOperatorAggregate object at 0x0000018861391290>, '__start__': <langgraph.channels.ephemeral_value.EphemeralValue object at 0x0000018860D16C10>, 'generator': <langgraph.channels.ephemeral_value.EphemeralValue object at 0x0000018860FE51D0>, 'evaluator': <langgraph.channels.ephemeral_value.EphemeralValue object at 0x0000018861454910>, 'optimizer': <langgraph.channels.ephemeral_value.EphemeralValue object at 0x0000018861457BD0>, 'start:generator': <langgraph.channels.ephemeral_value.EphemeralValue object at 0x0000018861455F50>, 'branch:evaluator:route_evaluation:optimizer': <langgraph.channels.ephemeral_value.EphemeralValue object at 0x0000018861454650>}, auto_validate=False, stream_mode='updates', output_channels=['topic', 'post', 'evaluation', 'feedback', 'iteration', 'max_iteration', 'post_history', 'feedback_history'], stream_channels=['topic', 'post', 'evaluation', 'feedback', 'iteration', 'max_iteration', 'post_history', 'feedback_history'], input_channels='__start__', builder=<langgraph.graph.state.StateGraph object at 0x0000018861389150>)"
      ]
     },
     "execution_count": 120,
     "metadata": {},
     "output_type": "execute_result"
    }
   ],
   "source": [
    "graph"
   ]
  },
  {
   "cell_type": "code",
   "execution_count": 121,
   "id": "ac1e731c",
   "metadata": {},
   "outputs": [
    {
     "data": {
      "image/jpeg": "[encoded data removed]",
      "text/plain": [
       "<IPython.core.display.Image object>"
      ]
     },
     "metadata": {},
     "output_type": "display_data"
    }
   ],
   "source": [
    "from IPython.display import Image, display\n",
    "try:\n",
    "  display(Image(graph.get_graph().draw_mermaid_png()))\n",
    "except Exception:\n",
    "  pass"
   ]
  },
  {
   "cell_type": "code",
   "execution_count": 122,
   "id": "c66c16c4",
   "metadata": {},
   "outputs": [],
   "source": [
    "initial_state = {\n",
    "    \"topic\": \"Insta\",\n",
    "    \"iteration\": 1,\n",
    "    \"max_iteration\": 5\n",
    "}"
   ]
  },
  {
   "cell_type": "code",
   "execution_count": 124,
   "id": "f4ca0a41",
   "metadata": {},
   "outputs": [
    {
     "data": {
      "text/plain": [
       "CompiledStateGraph(nodes={'__start__': PregelNode(config={'tags': ['langsmith:hidden']}, channels=['__start__'], triggers=['__start__'], writers=[ChannelWrite<topic,post,evaluation,feedback,iteration,max_iteration,post_history,feedback_history,start:generator>(recurse=True, writes=[ChannelWriteEntry(channel='topic', value=<object object at 0x000001884B4EEC70>, skip_none=False, mapper=_get_state_key(recurse=False)), ChannelWriteEntry(channel='post', value=<object object at 0x000001884B4EEC70>, skip_none=False, mapper=_get_state_key(recurse=False)), ChannelWriteEntry(channel='evaluation', value=<object object at 0x000001884B4EEC70>, skip_none=False, mapper=_get_state_key(recurse=False)), ChannelWriteEntry(channel='feedback', value=<object object at 0x000001884B4EEC70>, skip_none=False, mapper=_get_state_key(recurse=False)), ChannelWriteEntry(channel='iteration', value=<object object at 0x000001884B4EEC70>, skip_none=False, mapper=_get_state_key(recurse=False)), ChannelWriteEntry(channel='max_iteration', value=<object object at 0x000001884B4EEC70>, skip_none=False, mapper=_get_state_key(recurse=False)), ChannelWriteEntry(channel='post_history', value=<object object at 0x000001884B4EEC70>, skip_none=False, mapper=_get_state_key(recurse=False)), ChannelWriteEntry(channel='feedback_history', value=<object object at 0x000001884B4EEC70>, skip_none=False, mapper=_get_state_key(recurse=False)), ChannelWriteEntry(channel='start:generator', value='__start__', skip_none=False, mapper=None)]), ChannelWrite<start:generator>(recurse=True, writes=[ChannelWriteEntry(channel='start:generator', value='__start__', skip_none=False, mapper=None)])]), 'generator': PregelNode(config={'tags': []}, channels={'topic': 'topic', 'post': 'post', 'evaluation': 'evaluation', 'feedback': 'feedback', 'iteration': 'iteration', 'max_iteration': 'max_iteration', 'post_history': 'post_history', 'feedback_history': 'feedback_history'}, triggers=['start:generator'], mapper=functools.partial(<function _coerce_state at 0x000001884CAD5F80>, <class '__main__.PostState'>), writers=[ChannelWrite<generator,topic,post,evaluation,feedback,iteration,max_iteration,post_history,feedback_history>(recurse=True, writes=[ChannelWriteEntry(channel='generator', value='generator', skip_none=False, mapper=None), ChannelWriteEntry(channel='topic', value=<object object at 0x000001884B4EEC70>, skip_none=False, mapper=_get_state_key(recurse=False)), ChannelWriteEntry(channel='post', value=<object object at 0x000001884B4EEC70>, skip_none=False, mapper=_get_state_key(recurse=False)), ChannelWriteEntry(channel='evaluation', value=<object object at 0x000001884B4EEC70>, skip_none=False, mapper=_get_state_key(recurse=False)), ChannelWriteEntry(channel='feedback', value=<object object at 0x000001884B4EEC70>, skip_none=False, mapper=_get_state_key(recurse=False)), ChannelWriteEntry(channel='iteration', value=<object object at 0x000001884B4EEC70>, skip_none=False, mapper=_get_state_key(recurse=False)), ChannelWriteEntry(channel='max_iteration', value=<object object at 0x000001884B4EEC70>, skip_none=False, mapper=_get_state_key(recurse=False)), ChannelWriteEntry(channel='post_history', value=<object object at 0x000001884B4EEC70>, skip_none=False, mapper=_get_state_key(recurse=False)), ChannelWriteEntry(channel='feedback_history', value=<object object at 0x000001884B4EEC70>, skip_none=False, mapper=_get_state_key(recurse=False))])]), 'evaluator': PregelNode(config={'tags': []}, channels={'topic': 'topic', 'post': 'post', 'evaluation': 'evaluation', 'feedback': 'feedback', 'iteration': 'iteration', 'max_iteration': 'max_iteration', 'post_history': 'post_history', 'feedback_history': 'feedback_history'}, triggers=['generator', 'optimizer'], mapper=functools.partial(<function _coerce_state at 0x000001884CAD5F80>, <class '__main__.PostState'>), writers=[ChannelWrite<evaluator,topic,post,evaluation,feedback,iteration,max_iteration,post_history,feedback_history>(recurse=True, writes=[ChannelWriteEntry(channel='evaluator', value='evaluator', skip_none=False, mapper=None), ChannelWriteEntry(channel='topic', value=<object object at 0x000001884B4EEC70>, skip_none=False, mapper=_get_state_key(recurse=False)), ChannelWriteEntry(channel='post', value=<object object at 0x000001884B4EEC70>, skip_none=False, mapper=_get_state_key(recurse=False)), ChannelWriteEntry(channel='evaluation', value=<object object at 0x000001884B4EEC70>, skip_none=False, mapper=_get_state_key(recurse=False)), ChannelWriteEntry(channel='feedback', value=<object object at 0x000001884B4EEC70>, skip_none=False, mapper=_get_state_key(recurse=False)), ChannelWriteEntry(channel='iteration', value=<object object at 0x000001884B4EEC70>, skip_none=False, mapper=_get_state_key(recurse=False)), ChannelWriteEntry(channel='max_iteration', value=<object object at 0x000001884B4EEC70>, skip_none=False, mapper=_get_state_key(recurse=False)), ChannelWriteEntry(channel='post_history', value=<object object at 0x000001884B4EEC70>, skip_none=False, mapper=_get_state_key(recurse=False)), ChannelWriteEntry(channel='feedback_history', value=<object object at 0x000001884B4EEC70>, skip_none=False, mapper=_get_state_key(recurse=False))]), _route(recurse=True, _is_channel_writer=True)]), 'optimizer': PregelNode(config={'tags': []}, channels={'topic': 'topic', 'post': 'post', 'evaluation': 'evaluation', 'feedback': 'feedback', 'iteration': 'iteration', 'max_iteration': 'max_iteration', 'post_history': 'post_history', 'feedback_history': 'feedback_history'}, triggers=['branch:evaluator:route_evaluation:optimizer'], mapper=functools.partial(<function _coerce_state at 0x000001884CAD5F80>, <class '__main__.PostState'>), writers=[ChannelWrite<optimizer,topic,post,evaluation,feedback,iteration,max_iteration,post_history,feedback_history>(recurse=True, writes=[ChannelWriteEntry(channel='optimizer', value='optimizer', skip_none=False, mapper=None), ChannelWriteEntry(channel='topic', value=<object object at 0x000001884B4EEC70>, skip_none=False, mapper=_get_state_key(recurse=False)), ChannelWriteEntry(channel='post', value=<object object at 0x000001884B4EEC70>, skip_none=False, mapper=_get_state_key(recurse=False)), ChannelWriteEntry(channel='evaluation', value=<object object at 0x000001884B4EEC70>, skip_none=False, mapper=_get_state_key(recurse=False)), ChannelWriteEntry(channel='feedback', value=<object object at 0x000001884B4EEC70>, skip_none=False, mapper=_get_state_key(recurse=False)), ChannelWriteEntry(channel='iteration', value=<object object at 0x000001884B4EEC70>, skip_none=False, mapper=_get_state_key(recurse=False)), ChannelWriteEntry(channel='max_iteration', value=<object object at 0x000001884B4EEC70>, skip_none=False, mapper=_get_state_key(recurse=False)), ChannelWriteEntry(channel='post_history', value=<object object at 0x000001884B4EEC70>, skip_none=False, mapper=_get_state_key(recurse=False)), ChannelWriteEntry(channel='feedback_history', value=<object object at 0x000001884B4EEC70>, skip_none=False, mapper=_get_state_key(recurse=False))])])}, channels={'topic': <langgraph.channels.last_value.LastValue object at 0x0000018861389190>, 'post': <langgraph.channels.last_value.LastValue object at 0x00000188613AAFD0>, 'evaluation': <langgraph.channels.last_value.LastValue object at 0x0000018861392E10>, 'feedback': <langgraph.channels.last_value.LastValue object at 0x0000018861390B90>, 'iteration': <langgraph.channels.last_value.LastValue object at 0x0000018861392210>, 'max_iteration': <langgraph.channels.last_value.LastValue object at 0x0000018861392D50>, 'post_history': <langgraph.channels.binop.BinaryOperatorAggregate object at 0x0000018861390C90>, 'feedback_history': <langgraph.channels.binop.BinaryOperatorAggregate object at 0x0000018861391290>, '__start__': <langgraph.channels.ephemeral_value.EphemeralValue object at 0x0000018860D16C10>, 'generator': <langgraph.channels.ephemeral_value.EphemeralValue object at 0x0000018860FE51D0>, 'evaluator': <langgraph.channels.ephemeral_value.EphemeralValue object at 0x0000018861454910>, 'optimizer': <langgraph.channels.ephemeral_value.EphemeralValue object at 0x0000018861457BD0>, 'start:generator': <langgraph.channels.ephemeral_value.EphemeralValue object at 0x0000018861455F50>, 'branch:evaluator:route_evaluation:optimizer': <langgraph.channels.ephemeral_value.EphemeralValue object at 0x0000018861454650>}, auto_validate=False, stream_mode='updates', output_channels=['topic', 'post', 'evaluation', 'feedback', 'iteration', 'max_iteration', 'post_history', 'feedback_history'], stream_channels=['topic', 'post', 'evaluation', 'feedback', 'iteration', 'max_iteration', 'post_history', 'feedback_history'], input_channels='__start__', builder=<langgraph.graph.state.StateGraph object at 0x0000018861389150>)"
      ]
     },
     "execution_count": 124,
     "metadata": {},
     "output_type": "execute_result"
    }
   ],
   "source": [
    "graph"
   ]
  },
  {
   "cell_type": "code",
   "execution_count": 125,
   "id": "39d29aa8",
   "metadata": {},
   "outputs": [
    {
     "data": {
      "text/plain": [
       "<generator object Pregel.stream at 0x000001885D556BD0>"
      ]
     },
     "execution_count": 125,
     "metadata": {},
     "output_type": "execute_result"
    }
   ],
   "source": [
    "result = graph.stream(initial_state)\n",
    "result"
   ]
  },
  {
   "cell_type": "code",
   "execution_count": null,
   "id": "46715a9e",
   "metadata": {},
   "outputs": [],
   "source": []
  },
  {
   "cell_type": "code",
   "execution_count": null,
   "id": "8e9e082f",
   "metadata": {},
   "outputs": [],
   "source": []
  },
  {
   "cell_type": "code",
   "execution_count": null,
   "id": "8ce4d38c",
   "metadata": {},
   "outputs": [],
   "source": []
  }
 ],
 "metadata": {
  "kernelspec": {
   "display_name": "Python 3.11 (venv)",
   "language": "python",
   "name": "venv"
  },
  "language_info": {
   "codemirror_mode": {
    "name": "ipython",
    "version": 3
   },
   "file_extension": ".py",
   "mimetype": "text/x-python",
   "name": "python",
   "nbconvert_exporter": "python",
   "pygments_lexer": "ipython3",
   "version": "3.11.5"
  }
 },
 "nbformat": 4,
 "nbformat_minor": 5
}
